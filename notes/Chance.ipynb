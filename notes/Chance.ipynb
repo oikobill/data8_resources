{
 "cells": [
  {
   "cell_type": "markdown",
   "metadata": {},
   "source": [
    "# Chance"
   ]
  },
  {
   "cell_type": "markdown",
   "metadata": {},
   "source": [
    "## What is probability?\n",
    "\n",
    "### Two approaches:\n",
    "\n",
    "a) **_Frequentist approach_**: Estimating the probability of an event happening based on the how often it has happened in the past. (Fundamental idea of all the simulations we will develop in this class)\n",
    "\n",
    "                                             \n",
    "                                             \n",
    "                                             \n",
    "#                  $$ 0 \\leq P(A) = \\frac{\\text{number of outcomes that make A happen}}{\\text{total number of outcomes}} \\leq 1$$\n",
    "    \n",
    "\n",
    "b) **_Classical approach_**: Strictly based on some personal interpretation/estimation, not based on a frequency\n",
    "\n"
   ]
  },
  {
   "cell_type": "markdown",
   "metadata": {
    "collapsed": true
   },
   "source": [
    "## So how can I find the probability that a die lands heads?\n",
    "\n",
    "Simply simulate the experiment a large number of times(say 10000) and find the number of times that the particular event takes place."
   ]
  },
  {
   "cell_type": "code",
   "execution_count": 12,
   "metadata": {
    "collapsed": false
   },
   "outputs": [
    {
     "name": "stdout",
     "output_type": "stream",
     "text": [
      "The simulated probability of getting 1 when rolling a fair die is around: 0.166\n",
      "The actual probability is: 0.16666666666666666\n"
     ]
    }
   ],
   "source": [
    "import numpy as np\n",
    "ones = 0\n",
    "n_repetitions = 10000\n",
    "for i in range(n_repetitions):\n",
    "    if np.random.choice([1,2,3,4,5,6])==1:\n",
    "        ones+=1\n",
    "print(\"The simulated probability of getting 1 when rolling a fair die is around:\", ones/n_repetitions)\n",
    "print(\"The actual probability is:\", 1/6)"
   ]
  },
  {
   "cell_type": "markdown",
   "metadata": {},
   "source": [
    "## Formulas and intuition "
   ]
  },
  {
   "cell_type": "markdown",
   "metadata": {},
   "source": [
    "#### Complement\n",
    "\n",
    "####                  $$ P(\\text{an event doesn't happen}) = 1−P(\\text{the event happens})$$\n",
    "\n",
    "#### Addition Rule\n",
    "\n",
    "####                  $$ P(\\text{A}) = P(\\text{first way}) + P(\\text{second way})$$\n",
    "\n",
    "#### Multiplication Rule\n",
    "\n",
    "####                  $$ P(\\text{both A and B happen}) = P(\\text{A happens}) \\times P(\\text{B happens|A happens}) \\leq P\\text({A}) \\times P\\text({B})$$\n",
    "\n",
    "#### Tips \n",
    "   1. Sometimes the complement is much easier to find than the actual probability of an event.\n",
    "   2. Always try drawing tree diagrams when working with probability questions. They are a lot more intuitive, espeially when talking about conditioning. Tree diagrams will also help you really understand what Baye's rule says."
   ]
  },
  {
   "cell_type": "markdown",
   "metadata": {},
   "source": [
    "**Example for the addition rule:**\n",
    "\n",
    "Suppose that we play a game. To win the game you have to roll a die and get an odd number or a 6. What is the probability that you win the game?\n",
    "\n",
    "**Second Example:**\n",
    "\n",
    "Suppose that to win the game you have to roll anything but a 6 on your first try. If you \"survive\" the first round, you have to roll the die again and get anything but a 5 or 6. What is your chance of winning the game?\n",
    "\n",
    "\n",
    "**Third example:**\n",
    "\n",
    "Suppose that I have 3 boxes (A, B and C). Box A contains 2 silver coins, box B contains 1 silver and 1 gold coin and box C contains 2 gold coins.\n",
    "\n",
    "a) You pick a box at random and you choose pick one coin from it. What is the chance that the coin is silver? Show your work. \n",
    "\n",
    "b) Given that you see a gold coin, what is the chance that you picked it from box B?(Draw a tree diagram!)\n",
    "\n",
    "**If you want to look at a very cool and intuitive explanation of the Monty Hall problem, go on Youtube and find the video on the Monty Hall problem by Numberphile. In this episode, Lisa Goldberg, a UC Berkeley professor, explains the intuition behind the problem.**"
   ]
  }
 ],
 "metadata": {
  "anaconda-cloud": {},
  "kernelspec": {
   "display_name": "Python [default]",
   "language": "python",
   "name": "python3"
  },
  "language_info": {
   "codemirror_mode": {
    "name": "ipython",
    "version": 3
   },
   "file_extension": ".py",
   "mimetype": "text/x-python",
   "name": "python",
   "nbconvert_exporter": "python",
   "pygments_lexer": "ipython3",
   "version": "3.5.2"
  }
 },
 "nbformat": 4,
 "nbformat_minor": 1
}
