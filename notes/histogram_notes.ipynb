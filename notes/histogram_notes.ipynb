{
 "cells": [
  {
   "cell_type": "markdown",
   "metadata": {
    "slideshow": {
     "slide_type": "slide"
    }
   },
   "source": [
    "### Notes on Histograms"
   ]
  },
  {
   "cell_type": "markdown",
   "metadata": {
    "slideshow": {
     "slide_type": "slide"
    }
   },
   "source": [
    "Distribution of income in the U.S. in 1973.\n",
    "\n",
    "| Income level($)      | Percent (%) |\n",
    "|-------------------|---------|\n",
    "| 0 - 1,000     | 1       |\n",
    "| 1,000 - 2,000   | 2       |\n",
    "| 2,000 - 3,000   | 3       |\n",
    "| 3,000 - 4,000   | 4       |\n",
    "| 4,000 - 5,000   | 5       |\n",
    "| 5,000 - 6,000   | 5       |\n",
    "| 6,000 - 7,000   | 5       |\n",
    "| 7,000 - 10,000  | 15      |\n",
    "| 10,000 - 15,000 | 26      |\n",
    "| 15,000 - 25,000 | 26      |\n",
    "| 25,000 - 50,000 | 8       |\n",
    "| 50,000 and over | 1       |"
   ]
  },
  {
   "cell_type": "code",
   "execution_count": 1,
   "metadata": {
    "collapsed": false,
    "slideshow": {
     "slide_type": "subslide"
    }
   },
   "outputs": [],
   "source": [
    "from datascience import *\n",
    "import numpy as np\n",
    "import matplotlib.pyplot as plt\n",
    "%matplotlib inline\n",
    "bins = make_array(0, 1, 2, 3, 4, 5, 6, 7, 10, 15, 25, 50, 60)\n",
    "data = np.array([0.5]+[1.5]*2+[2.5]*3+[3.5]*4+[4.5]*5+[5.5]*5+[6.5]*5+[8.5]*15+[10.5]*26+[15.5]*26+[25.5]*8+[55.5])"
   ]
  },
  {
   "cell_type": "markdown",
   "metadata": {
    "slideshow": {
     "slide_type": "slide"
    }
   },
   "source": [
    "## Is this a histogram?\n",
    "_(If not, what could we improve?)_"
   ]
  },
  {
   "cell_type": "code",
   "execution_count": 2,
   "metadata": {
    "collapsed": false,
    "slideshow": {
     "slide_type": "fragment"
    }
   },
   "outputs": [
    {
     "data": {
      "text/plain": [
       "<matplotlib.text.Text at 0x116ea7cf8>"
      ]
     },
     "execution_count": 2,
     "metadata": {},
     "output_type": "execute_result"
    },
    {
     "data": {
      "image/png": "[encoded data removed]",
      "text/plain": [
       "<matplotlib.figure.Figure at 0x104831be0>"
      ]
     },
     "metadata": {},
     "output_type": "display_data"
    }
   ],
   "source": [
    "plt.hist(data, bins=bins)\n",
    "plt.xlabel(\"INCOME (THOUSANDS OF DOLLARS)\")\n",
    "plt.title(\"Distribution of family income in the U.S. in 1973\")"
   ]
  },
  {
   "cell_type": "markdown",
   "metadata": {
    "slideshow": {
     "slide_type": "slide"
    }
   },
   "source": [
    "## Guidelines when making a histogram?\n",
    "\n",
    "**1.** The most important axis in a histogram is the x axis. (Look carefully at the bins and the units. These will affect your interpretation of the y axis/density)\n",
    "\n",
    "**2.** The areas of the bars are the proportion of entries inside that bin\n",
    "\n",
    "**3.** Total area under a histogram is always 1 (you can also say 100%)\n",
    "\n",
    "**4.** The vertical axis is directly determined by the area of the bar and the size of the bar **density =$\\frac{area}{width}$**"
   ]
  },
  {
   "cell_type": "markdown",
   "metadata": {
    "slideshow": {
     "slide_type": "slide"
    }
   },
   "source": [
    "## Better histogram"
   ]
  },
  {
   "cell_type": "code",
   "execution_count": null,
   "metadata": {
    "collapsed": false,
    "slideshow": {
     "slide_type": "fragment"
    }
   },
   "outputs": [],
   "source": [
    "plt.hist(data, bins=bins, normed=True)\n",
    "plt.xlabel(\"INCOME (THOUSANDS OF DOLLARS)\")\n",
    "plt.xticks(make_array(5, 10, 15, 25, 50))\n",
    "plt.ylabel(\"PER THOUSANDS OF DOLLARS\")\n",
    "plt.title(\"Distribution of family income in the U.S. in 1973\")"
   ]
  },
  {
   "cell_type": "markdown",
   "metadata": {
    "slideshow": {
     "slide_type": "slide"
    }
   },
   "source": [
    "## Coming up with the density and its units\n",
    "_(On board)_\n",
    "\n",
    "**Note:** Remember! The y axis in a histogram is the density per unit length of the x axis. In the above histogram it can be interpreted as proportion of people per thousands of dollars. E.G. For the first bin I have 0.01 (1%) of the people per 1 thousand dollars. \n",
    "\n",
    "**Makes sense since 0.01/1000 * 1000 = 0.01 (area of bar for bin #1)** <-- Understand why this is the case\n",
    "\n",
    "Sanity check the above method for the 7K to 10K bin."
   ]
  }
 ],
 "metadata": {
  "anaconda-cloud": {},
  "kernelspec": {
   "display_name": "Python [conda root]",
   "language": "python",
   "name": "conda-root-py"
  },
  "language_info": {
   "codemirror_mode": {
    "name": "ipython",
    "version": 3
   },
   "file_extension": ".py",
   "mimetype": "text/x-python",
   "name": "python",
   "nbconvert_exporter": "python",
   "pygments_lexer": "ipython3",
   "version": "3.5.2"
  }
 },
 "nbformat": 4,
 "nbformat_minor": 1
}
