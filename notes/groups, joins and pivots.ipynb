{
 "cells": [
  {
   "cell_type": "code",
   "execution_count": 1,
   "metadata": {
    "collapsed": true
   },
   "outputs": [],
   "source": [
    "from datascience import *\n",
    "import matplotlib.pyplot as plt\n",
    "import numpy as np\n",
    "%matplotlib inline"
   ]
  },
  {
   "cell_type": "code",
   "execution_count": 12,
   "metadata": {
    "collapsed": false
   },
   "outputs": [],
   "source": [
    "#salary data for 2013 - 2019\n",
    "nba13to19 = Table.read_table('datasets/nba_salaries_13_19.csv')\n",
    "#salary data for 2016\n",
    "nba16 = Table.read_table('datasets/nba2016_salary.csv')"
   ]
  },
  {
   "cell_type": "code",
   "execution_count": 13,
   "metadata": {
    "collapsed": false
   },
   "outputs": [
    {
     "data": {
      "text/html": [
       "<table border=\"1\" class=\"dataframe\">\n",
       "    <thead>\n",
       "        <tr>\n",
       "            <th>id</th> <th>player</th> <th>position</th> <th>team</th> <th>salary</th>\n",
       "        </tr>\n",
       "    </thead>\n",
       "    <tbody>\n",
       "        <tr>\n",
       "            <td>1   </td> <td>Kobe Bryant    </td> <td>SF      </td> <td>Los Angeles Lakers   </td> <td>25     </td>\n",
       "        </tr>\n",
       "    </tbody>\n",
       "        <tr>\n",
       "            <td>2   </td> <td>Joe Johnson    </td> <td>SF      </td> <td>Brooklyn Nets        </td> <td>24.8949</td>\n",
       "        </tr>\n",
       "    </tbody>\n",
       "        <tr>\n",
       "            <td>3   </td> <td>LeBron James   </td> <td>SF      </td> <td>Cleveland Cavaliers  </td> <td>22.9705</td>\n",
       "        </tr>\n",
       "    </tbody>\n",
       "        <tr>\n",
       "            <td>4   </td> <td>Carmelo Anthony</td> <td>SF      </td> <td>New York Knicks      </td> <td>22.875 </td>\n",
       "        </tr>\n",
       "    </tbody>\n",
       "        <tr>\n",
       "            <td>5   </td> <td>Dwight Howard  </td> <td>C       </td> <td>Houston Rockets      </td> <td>22.3594</td>\n",
       "        </tr>\n",
       "    </tbody>\n",
       "        <tr>\n",
       "            <td>6   </td> <td>Chris Bosh     </td> <td>PF      </td> <td>Miami Heat           </td> <td>22.1927</td>\n",
       "        </tr>\n",
       "    </tbody>\n",
       "        <tr>\n",
       "            <td>7   </td> <td>Chris Paul     </td> <td>PG      </td> <td>Los Angeles Clippers </td> <td>21.4687</td>\n",
       "        </tr>\n",
       "    </tbody>\n",
       "        <tr>\n",
       "            <td>8   </td> <td>Kevin Durant   </td> <td>SF      </td> <td>Oklahoma City Thunder</td> <td>20.1586</td>\n",
       "        </tr>\n",
       "    </tbody>\n",
       "        <tr>\n",
       "            <td>9   </td> <td>Derrick Rose   </td> <td>PG      </td> <td>Chicago Bulls        </td> <td>20.0931</td>\n",
       "        </tr>\n",
       "    </tbody>\n",
       "        <tr>\n",
       "            <td>10  </td> <td>Dwyane Wade    </td> <td>SG      </td> <td>Miami Heat           </td> <td>20     </td>\n",
       "        </tr>\n",
       "    </tbody>\n",
       "</table>\n",
       "<p>... (407 rows omitted)</p"
      ],
      "text/plain": [
       "id   | player          | position | team                  | salary\n",
       "1    | Kobe Bryant     | SF       | Los Angeles Lakers    | 25\n",
       "2    | Joe Johnson     | SF       | Brooklyn Nets         | 24.8949\n",
       "3    | LeBron James    | SF       | Cleveland Cavaliers   | 22.9705\n",
       "4    | Carmelo Anthony | SF       | New York Knicks       | 22.875\n",
       "5    | Dwight Howard   | C        | Houston Rockets       | 22.3594\n",
       "6    | Chris Bosh      | PF       | Miami Heat            | 22.1927\n",
       "7    | Chris Paul      | PG       | Los Angeles Clippers  | 21.4687\n",
       "8    | Kevin Durant    | SF       | Oklahoma City Thunder | 20.1586\n",
       "9    | Derrick Rose    | PG       | Chicago Bulls         | 20.0931\n",
       "10   | Dwyane Wade     | SG       | Miami Heat            | 20\n",
       "... (407 rows omitted)"
      ]
     },
     "execution_count": 13,
     "metadata": {},
     "output_type": "execute_result"
    }
   ],
   "source": [
    "#second dataset\n",
    "nba16"
   ]
  },
  {
   "cell_type": "markdown",
   "metadata": {},
   "source": [
    "### Questions"
   ]
  },
  {
   "cell_type": "markdown",
   "metadata": {},
   "source": [
    "1. How many players does each team have per position in this dataset?\n",
    "2. Using your answer above or otherwise what is the total number of players per team? Choose an appropriate visualization to illustrate your findings.\n",
    "3. How much does the best-paid player earn for every position in each team?\n",
    "4. Using the nba13to19 table, find which agent made the most money on average for his players in the 2016 season. Make sure to include a column with the number of players each agent managed.\n",
    "5. Using the above table you made, investigate whether the number of players the agent manages affects his ranking."
   ]
  },
  {
   "cell_type": "code",
   "execution_count": 29,
   "metadata": {
    "collapsed": false
   },
   "outputs": [
    {
     "data": {
      "text/html": [
       "<table border=\"1\" class=\"dataframe\">\n",
       "    <thead>\n",
       "        <tr>\n",
       "            <th>player</th> <th>season</th> <th>season_name</th> <th>salary</th> <th>agency</th> <th>agent</th> <th>salary_amnesty</th> <th>league</th> <th>team</th> <th>player_off_roster_13_14</th> <th>id_contract_type</th>\n",
       "        </tr>\n",
       "    </thead>\n",
       "    <tbody>\n",
       "        <tr>\n",
       "            <td>Al Jefferson    </td> <td>2014  </td> <td>2013-2014  </td> <td>13500000</td> <td>Excel Sports Management    </td> <td>Jeff Schwartz   </td> <td>False         </td> <td>nba   </td> <td>Bobcats</td> <td>False                  </td> <td>G               </td>\n",
       "        </tr>\n",
       "    </tbody>\n",
       "        <tr>\n",
       "            <td>Al Jefferson    </td> <td>2015  </td> <td>2014-2015  </td> <td>13500000</td> <td>Excel Sports Management    </td> <td>Jeff Schwartz   </td> <td>False         </td> <td>nba   </td> <td>Bobcats</td> <td>False                  </td> <td>G               </td>\n",
       "        </tr>\n",
       "    </tbody>\n",
       "        <tr>\n",
       "            <td>Al Jefferson    </td> <td>2016  </td> <td>2015-2016  </td> <td>13500000</td> <td>Excel Sports Management    </td> <td>Jeff Schwartz   </td> <td>False         </td> <td>nba   </td> <td>Bobcats</td> <td>False                  </td> <td>PO              </td>\n",
       "        </tr>\n",
       "    </tbody>\n",
       "        <tr>\n",
       "            <td>Anthony Tolliver</td> <td>2014  </td> <td>2013-2014  </td> <td>884293  </td> <td>Lee Basketball Services LTD</td> <td>Larry Fox       </td> <td>False         </td> <td>nba   </td> <td>Bobcats</td> <td>False                  </td> <td>G               </td>\n",
       "        </tr>\n",
       "    </tbody>\n",
       "        <tr>\n",
       "            <td>Ben Gordon      </td> <td>2014  </td> <td>2013-2014  </td> <td>13200000</td> <td>IAM Sports                 </td> <td>Raymond Brothers</td> <td>False         </td> <td>nba   </td> <td>Bobcats</td> <td>False                  </td> <td>G               </td>\n",
       "        </tr>\n",
       "    </tbody>\n",
       "        <tr>\n",
       "            <td>Bismack Biyombo </td> <td>2014  </td> <td>2013-2014  </td> <td>3049920 </td> <td>Wasserman Media Group      </td> <td>Arn Tellem      </td> <td>False         </td> <td>nba   </td> <td>Bobcats</td> <td>False                  </td> <td>G               </td>\n",
       "        </tr>\n",
       "    </tbody>\n",
       "        <tr>\n",
       "            <td>Bismack Biyombo </td> <td>2015  </td> <td>2014-2015  </td> <td>3873398 </td> <td>Wasserman Media Group      </td> <td>Arn Tellem      </td> <td>False         </td> <td>nba   </td> <td>Bobcats</td> <td>False                  </td> <td>TO              </td>\n",
       "        </tr>\n",
       "    </tbody>\n",
       "        <tr>\n",
       "            <td>Bismack Biyombo </td> <td>2016  </td> <td>2015-2016  </td> <td>5194227 </td> <td>Wasserman Media Group      </td> <td>Arn Tellem      </td> <td>False         </td> <td>nba   </td> <td>Bobcats</td> <td>False                  </td> <td>QO              </td>\n",
       "        </tr>\n",
       "    </tbody>\n",
       "        <tr>\n",
       "            <td>Brendan Haywood </td> <td>2014  </td> <td>2013-2014  </td> <td>2050000 </td> <td>ASM Sports                 </td> <td>Andy Miller     </td> <td>False         </td> <td>nba   </td> <td>Bobcats</td> <td>False                  </td> <td>G               </td>\n",
       "        </tr>\n",
       "    </tbody>\n",
       "        <tr>\n",
       "            <td>Brendan Haywood </td> <td>2015  </td> <td>2014-2015  </td> <td>2213688 </td> <td>ASM Sports                 </td> <td>Andy Miller     </td> <td>False         </td> <td>nba   </td> <td>Bobcats</td> <td>False                  </td> <td>G               </td>\n",
       "        </tr>\n",
       "    </tbody>\n",
       "</table>\n",
       "<p>... (1189 rows omitted)</p"
      ],
      "text/plain": [
       "player           | season | season_name | salary   | agency                      | agent            | salary_amnesty | league | team    | player_off_roster_13_14 | id_contract_type\n",
       "Al Jefferson     | 2014   | 2013-2014   | 13500000 | Excel Sports Management     | Jeff Schwartz    | False          | nba    | Bobcats | False                   | G\n",
       "Al Jefferson     | 2015   | 2014-2015   | 13500000 | Excel Sports Management     | Jeff Schwartz    | False          | nba    | Bobcats | False                   | G\n",
       "Al Jefferson     | 2016   | 2015-2016   | 13500000 | Excel Sports Management     | Jeff Schwartz    | False          | nba    | Bobcats | False                   | PO\n",
       "Anthony Tolliver | 2014   | 2013-2014   | 884293   | Lee Basketball Services LTD | Larry Fox        | False          | nba    | Bobcats | False                   | G\n",
       "Ben Gordon       | 2014   | 2013-2014   | 13200000 | IAM Sports                  | Raymond Brothers | False          | nba    | Bobcats | False                   | G\n",
       "Bismack Biyombo  | 2014   | 2013-2014   | 3049920  | Wasserman Media Group       | Arn Tellem       | False          | nba    | Bobcats | False                   | G\n",
       "Bismack Biyombo  | 2015   | 2014-2015   | 3873398  | Wasserman Media Group       | Arn Tellem       | False          | nba    | Bobcats | False                   | TO\n",
       "Bismack Biyombo  | 2016   | 2015-2016   | 5194227  | Wasserman Media Group       | Arn Tellem       | False          | nba    | Bobcats | False                   | QO\n",
       "Brendan Haywood  | 2014   | 2013-2014   | 2050000  | ASM Sports                  | Andy Miller      | False          | nba    | Bobcats | False                   | G\n",
       "Brendan Haywood  | 2015   | 2014-2015   | 2213688  | ASM Sports                  | Andy Miller      | False          | nba    | Bobcats | False                   | G\n",
       "... (1189 rows omitted)"
      ]
     },
     "execution_count": 29,
     "metadata": {},
     "output_type": "execute_result"
    }
   ],
   "source": [
    "nba13to19"
   ]
  },
  {
   "cell_type": "code",
   "execution_count": 27,
   "metadata": {
    "collapsed": false
   },
   "outputs": [
    {
     "data": {
      "text/html": [
       "<table border=\"1\" class=\"dataframe\">\n",
       "    <thead>\n",
       "        <tr>\n",
       "            <th>id</th> <th>player</th> <th>position</th> <th>team</th> <th>salary</th>\n",
       "        </tr>\n",
       "    </thead>\n",
       "    <tbody>\n",
       "        <tr>\n",
       "            <td>1   </td> <td>Kobe Bryant    </td> <td>SF      </td> <td>Los Angeles Lakers   </td> <td>25     </td>\n",
       "        </tr>\n",
       "    </tbody>\n",
       "        <tr>\n",
       "            <td>2   </td> <td>Joe Johnson    </td> <td>SF      </td> <td>Brooklyn Nets        </td> <td>24.8949</td>\n",
       "        </tr>\n",
       "    </tbody>\n",
       "        <tr>\n",
       "            <td>3   </td> <td>LeBron James   </td> <td>SF      </td> <td>Cleveland Cavaliers  </td> <td>22.9705</td>\n",
       "        </tr>\n",
       "    </tbody>\n",
       "        <tr>\n",
       "            <td>4   </td> <td>Carmelo Anthony</td> <td>SF      </td> <td>New York Knicks      </td> <td>22.875 </td>\n",
       "        </tr>\n",
       "    </tbody>\n",
       "        <tr>\n",
       "            <td>5   </td> <td>Dwight Howard  </td> <td>C       </td> <td>Houston Rockets      </td> <td>22.3594</td>\n",
       "        </tr>\n",
       "    </tbody>\n",
       "        <tr>\n",
       "            <td>6   </td> <td>Chris Bosh     </td> <td>PF      </td> <td>Miami Heat           </td> <td>22.1927</td>\n",
       "        </tr>\n",
       "    </tbody>\n",
       "        <tr>\n",
       "            <td>7   </td> <td>Chris Paul     </td> <td>PG      </td> <td>Los Angeles Clippers </td> <td>21.4687</td>\n",
       "        </tr>\n",
       "    </tbody>\n",
       "        <tr>\n",
       "            <td>8   </td> <td>Kevin Durant   </td> <td>SF      </td> <td>Oklahoma City Thunder</td> <td>20.1586</td>\n",
       "        </tr>\n",
       "    </tbody>\n",
       "        <tr>\n",
       "            <td>9   </td> <td>Derrick Rose   </td> <td>PG      </td> <td>Chicago Bulls        </td> <td>20.0931</td>\n",
       "        </tr>\n",
       "    </tbody>\n",
       "        <tr>\n",
       "            <td>10  </td> <td>Dwyane Wade    </td> <td>SG      </td> <td>Miami Heat           </td> <td>20     </td>\n",
       "        </tr>\n",
       "    </tbody>\n",
       "</table>\n",
       "<p>... (407 rows omitted)</p"
      ],
      "text/plain": [
       "id   | player          | position | team                  | salary\n",
       "1    | Kobe Bryant     | SF       | Los Angeles Lakers    | 25\n",
       "2    | Joe Johnson     | SF       | Brooklyn Nets         | 24.8949\n",
       "3    | LeBron James    | SF       | Cleveland Cavaliers   | 22.9705\n",
       "4    | Carmelo Anthony | SF       | New York Knicks       | 22.875\n",
       "5    | Dwight Howard   | C        | Houston Rockets       | 22.3594\n",
       "6    | Chris Bosh      | PF       | Miami Heat            | 22.1927\n",
       "7    | Chris Paul      | PG       | Los Angeles Clippers  | 21.4687\n",
       "8    | Kevin Durant    | SF       | Oklahoma City Thunder | 20.1586\n",
       "9    | Derrick Rose    | PG       | Chicago Bulls         | 20.0931\n",
       "10   | Dwyane Wade     | SG       | Miami Heat            | 20\n",
       "... (407 rows omitted)"
      ]
     },
     "execution_count": 27,
     "metadata": {},
     "output_type": "execute_result"
    }
   ],
   "source": [
    "nba16"
   ]
  },
  {
   "cell_type": "code",
   "execution_count": 28,
   "metadata": {
    "collapsed": false
   },
   "outputs": [
    {
     "data": {
      "text/html": [
       "<table border=\"1\" class=\"dataframe\">\n",
       "    <thead>\n",
       "        <tr>\n",
       "            <th>player</th> <th>season</th> <th>season_name</th> <th>salary</th> <th>agency</th> <th>agent</th> <th>salary_amnesty</th> <th>league</th> <th>team</th> <th>player_off_roster_13_14</th> <th>id_contract_type</th> <th>id</th> <th>position</th> <th>team_2</th> <th>salary_2</th>\n",
       "        </tr>\n",
       "    </thead>\n",
       "    <tbody>\n",
       "        <tr>\n",
       "            <td>Aaron Brooks   </td> <td>2014  </td> <td>2013-2014  </td> <td>674194  </td> <td>Creative Artists Agency        </td> <td>Leon Rose       </td> <td>False         </td> <td>nba   </td> <td>Kings   </td> <td>True                   </td> <td>G               </td> <td>249 </td> <td>PG      </td> <td>Chicago Bulls         </td> <td>2.25    </td>\n",
       "        </tr>\n",
       "    </tbody>\n",
       "        <tr>\n",
       "            <td>Aaron Brooks   </td> <td>2014  </td> <td>2013-2014  </td> <td>884293  </td> <td>Creative Artists Agency        </td> <td>Leon Rose       </td> <td>False         </td> <td>nba   </td> <td>Rockets </td> <td>False                  </td> <td>G               </td> <td>249 </td> <td>PG      </td> <td>Chicago Bulls         </td> <td>2.25    </td>\n",
       "        </tr>\n",
       "    </tbody>\n",
       "        <tr>\n",
       "            <td>Al Horford     </td> <td>2014  </td> <td>2013-2014  </td> <td>12000000</td> <td>Wasserman Media Group          </td> <td>Arn Tellem      </td> <td>False         </td> <td>nba   </td> <td>Hawks   </td> <td>False                  </td> <td>G               </td> <td>55  </td> <td>C       </td> <td>Atlanta Hawks         </td> <td>12      </td>\n",
       "        </tr>\n",
       "    </tbody>\n",
       "        <tr>\n",
       "            <td>Al Horford     </td> <td>2015  </td> <td>2014-2015  </td> <td>12000000</td> <td>Wasserman Media Group          </td> <td>Arn Tellem      </td> <td>False         </td> <td>nba   </td> <td>Hawks   </td> <td>False                  </td> <td>G               </td> <td>55  </td> <td>C       </td> <td>Atlanta Hawks         </td> <td>12      </td>\n",
       "        </tr>\n",
       "    </tbody>\n",
       "        <tr>\n",
       "            <td>Al Horford     </td> <td>2016  </td> <td>2015-2016  </td> <td>12000000</td> <td>Wasserman Media Group          </td> <td>Arn Tellem      </td> <td>False         </td> <td>nba   </td> <td>Hawks   </td> <td>False                  </td> <td>G               </td> <td>55  </td> <td>C       </td> <td>Atlanta Hawks         </td> <td>12      </td>\n",
       "        </tr>\n",
       "    </tbody>\n",
       "        <tr>\n",
       "            <td>Al Jefferson   </td> <td>2014  </td> <td>2013-2014  </td> <td>13500000</td> <td>Excel Sports Management        </td> <td>Jeff Schwartz   </td> <td>False         </td> <td>nba   </td> <td>Bobcats </td> <td>False                  </td> <td>G               </td> <td>40  </td> <td>C       </td> <td>Charlotte Hornets     </td> <td>13.5    </td>\n",
       "        </tr>\n",
       "    </tbody>\n",
       "        <tr>\n",
       "            <td>Al Jefferson   </td> <td>2015  </td> <td>2014-2015  </td> <td>13500000</td> <td>Excel Sports Management        </td> <td>Jeff Schwartz   </td> <td>False         </td> <td>nba   </td> <td>Bobcats </td> <td>False                  </td> <td>G               </td> <td>40  </td> <td>C       </td> <td>Charlotte Hornets     </td> <td>13.5    </td>\n",
       "        </tr>\n",
       "    </tbody>\n",
       "        <tr>\n",
       "            <td>Al Jefferson   </td> <td>2016  </td> <td>2015-2016  </td> <td>13500000</td> <td>Excel Sports Management        </td> <td>Jeff Schwartz   </td> <td>False         </td> <td>nba   </td> <td>Bobcats </td> <td>False                  </td> <td>PO              </td> <td>40  </td> <td>C       </td> <td>Charlotte Hornets     </td> <td>13.5    </td>\n",
       "        </tr>\n",
       "    </tbody>\n",
       "        <tr>\n",
       "            <td>Al-Farouq Aminu</td> <td>2014  </td> <td>2013-2014  </td> <td>3749602 </td> <td>IAM Sports                     </td> <td>Raymond Brothers</td> <td>False         </td> <td>nba   </td> <td>Pelicans</td> <td>False                  </td> <td>G               </td> <td>87  </td> <td>SF      </td> <td>Portland Trail Blazers</td> <td>8.04289 </td>\n",
       "        </tr>\n",
       "    </tbody>\n",
       "        <tr>\n",
       "            <td>Alan Anderson  </td> <td>2014  </td> <td>2013-2014  </td> <td>947907  </td> <td>Priority Sports & Entertainment</td> <td>Mark Bartelstein</td> <td>False         </td> <td>nba   </td> <td>Nets    </td> <td>False                  </td> <td>G               </td> <td>171 </td> <td>SG      </td> <td>Washington Wizards    </td> <td>4       </td>\n",
       "        </tr>\n",
       "    </tbody>\n",
       "</table>\n",
       "<p>... (761 rows omitted)</p"
      ],
      "text/plain": [
       "player          | season | season_name | salary   | agency                          | agent            | salary_amnesty | league | team     | player_off_roster_13_14 | id_contract_type | id   | position | team_2                 | salary_2\n",
       "Aaron Brooks    | 2014   | 2013-2014   | 674194   | Creative Artists Agency         | Leon Rose        | False          | nba    | Kings    | True                    | G                | 249  | PG       | Chicago Bulls          | 2.25\n",
       "Aaron Brooks    | 2014   | 2013-2014   | 884293   | Creative Artists Agency         | Leon Rose        | False          | nba    | Rockets  | False                   | G                | 249  | PG       | Chicago Bulls          | 2.25\n",
       "Al Horford      | 2014   | 2013-2014   | 12000000 | Wasserman Media Group           | Arn Tellem       | False          | nba    | Hawks    | False                   | G                | 55   | C        | Atlanta Hawks          | 12\n",
       "Al Horford      | 2015   | 2014-2015   | 12000000 | Wasserman Media Group           | Arn Tellem       | False          | nba    | Hawks    | False                   | G                | 55   | C        | Atlanta Hawks          | 12\n",
       "Al Horford      | 2016   | 2015-2016   | 12000000 | Wasserman Media Group           | Arn Tellem       | False          | nba    | Hawks    | False                   | G                | 55   | C        | Atlanta Hawks          | 12\n",
       "Al Jefferson    | 2014   | 2013-2014   | 13500000 | Excel Sports Management         | Jeff Schwartz    | False          | nba    | Bobcats  | False                   | G                | 40   | C        | Charlotte Hornets      | 13.5\n",
       "Al Jefferson    | 2015   | 2014-2015   | 13500000 | Excel Sports Management         | Jeff Schwartz    | False          | nba    | Bobcats  | False                   | G                | 40   | C        | Charlotte Hornets      | 13.5\n",
       "Al Jefferson    | 2016   | 2015-2016   | 13500000 | Excel Sports Management         | Jeff Schwartz    | False          | nba    | Bobcats  | False                   | PO               | 40   | C        | Charlotte Hornets      | 13.5\n",
       "Al-Farouq Aminu | 2014   | 2013-2014   | 3749602  | IAM Sports                      | Raymond Brothers | False          | nba    | Pelicans | False                   | G                | 87   | SF       | Portland Trail Blazers | 8.04289\n",
       "Alan Anderson   | 2014   | 2013-2014   | 947907   | Priority Sports & Entertainment | Mark Bartelstein | False          | nba    | Nets     | False                   | G                | 171  | SG       | Washington Wizards     | 4\n",
       "... (761 rows omitted)"
      ]
     },
     "execution_count": 28,
     "metadata": {},
     "output_type": "execute_result"
    }
   ],
   "source": [
    "nba13to19.join(\"player\", nba16, \"name\")"
   ]
  },
  {
   "cell_type": "code",
   "execution_count": 24,
   "metadata": {
    "collapsed": false
   },
   "outputs": [
    {
     "data": {
      "text/html": [
       "<table border=\"1\" class=\"dataframe\">\n",
       "    <thead>\n",
       "        <tr>\n",
       "            <th>team</th> <th>position</th> <th>id mean</th> <th>player mean</th> <th>salary mean</th>\n",
       "        </tr>\n",
       "    </thead>\n",
       "    <tbody>\n",
       "        <tr>\n",
       "            <td>Atlanta Hawks </td> <td>C       </td> <td>159.667</td> <td>           </td> <td>7.58542    </td>\n",
       "        </tr>\n",
       "    </tbody>\n",
       "        <tr>\n",
       "            <td>Atlanta Hawks </td> <td>PF      </td> <td>106    </td> <td>           </td> <td>11.0025    </td>\n",
       "        </tr>\n",
       "    </tbody>\n",
       "        <tr>\n",
       "            <td>Atlanta Hawks </td> <td>PG      </td> <td>184    </td> <td>           </td> <td>4.8817     </td>\n",
       "        </tr>\n",
       "    </tbody>\n",
       "        <tr>\n",
       "            <td>Atlanta Hawks </td> <td>SF      </td> <td>222.5  </td> <td>           </td> <td>3          </td>\n",
       "        </tr>\n",
       "    </tbody>\n",
       "        <tr>\n",
       "            <td>Atlanta Hawks </td> <td>SG      </td> <td>319.8  </td> <td>           </td> <td>1.80969    </td>\n",
       "        </tr>\n",
       "    </tbody>\n",
       "        <tr>\n",
       "            <td>Boston Celtics</td> <td>C       </td> <td>239.667</td> <td>           </td> <td>2.45046    </td>\n",
       "        </tr>\n",
       "    </tbody>\n",
       "        <tr>\n",
       "            <td>Boston Celtics</td> <td>PF      </td> <td>235.5  </td> <td>           </td> <td>3.08548    </td>\n",
       "        </tr>\n",
       "    </tbody>\n",
       "        <tr>\n",
       "            <td>Boston Celtics</td> <td>PG      </td> <td>166.5  </td> <td>           </td> <td>4.97465    </td>\n",
       "        </tr>\n",
       "    </tbody>\n",
       "        <tr>\n",
       "            <td>Boston Celtics</td> <td>SF      </td> <td>187    </td> <td>           </td> <td>4.41716    </td>\n",
       "        </tr>\n",
       "    </tbody>\n",
       "        <tr>\n",
       "            <td>Boston Celtics</td> <td>SG      </td> <td>270.75 </td> <td>           </td> <td>2.00755    </td>\n",
       "        </tr>\n",
       "    </tbody>\n",
       "</table>\n",
       "<p>... (137 rows omitted)</p"
      ],
      "text/plain": [
       "team           | position | id mean | player mean | salary mean\n",
       "Atlanta Hawks  | C        | 159.667 |             | 7.58542\n",
       "Atlanta Hawks  | PF       | 106     |             | 11.0025\n",
       "Atlanta Hawks  | PG       | 184     |             | 4.8817\n",
       "Atlanta Hawks  | SF       | 222.5   |             | 3\n",
       "Atlanta Hawks  | SG       | 319.8   |             | 1.80969\n",
       "Boston Celtics | C        | 239.667 |             | 2.45046\n",
       "Boston Celtics | PF       | 235.5   |             | 3.08548\n",
       "Boston Celtics | PG       | 166.5   |             | 4.97465\n",
       "Boston Celtics | SF       | 187     |             | 4.41716\n",
       "Boston Celtics | SG       | 270.75  |             | 2.00755\n",
       "... (137 rows omitted)"
      ]
     },
     "execution_count": 24,
     "metadata": {},
     "output_type": "execute_result"
    }
   ],
   "source": [
    "#1\n",
    "nba16.pivot(\"team\", \"position\",\"salary\", np.mean)\n",
    "nba16.groups([\"team\", \"position\"], np.mean)"
   ]
  },
  {
   "cell_type": "code",
   "execution_count": 5,
   "metadata": {
    "collapsed": false
   },
   "outputs": [
    {
     "data": {
      "text/plain": [
       "<matplotlib.text.Text at 0x1145e6630>"
      ]
     },
     "execution_count": 5,
     "metadata": {},
     "output_type": "execute_result"
    },
    {
     "data": {
      "image/png": "[encoded data removed]",
      "text/plain": [
       "<matplotlib.figure.Figure at 0x1156790f0>"
      ]
     },
     "metadata": {},
     "output_type": "display_data"
    }
   ],
   "source": [
    "#2\n",
    "nba_by_team = nba16.group('team')\n",
    "plt.boxplot(nba_by_team.column('count'))\n",
    "plt.title(\"Number of players per team in dataset\")\n",
    "plt.xticks([1], ['NBA teams'])\n",
    "plt.ylabel(\"Counts\")"
   ]
  },
  {
   "cell_type": "code",
   "execution_count": 6,
   "metadata": {
    "collapsed": false
   },
   "outputs": [
    {
     "data": {
      "image/png": "[encoded data removed]",
      "text/plain": [
       "<matplotlib.figure.Figure at 0x11465c908>"
      ]
     },
     "metadata": {},
     "output_type": "display_data"
    }
   ],
   "source": [
    "plt.figure(figsize=(20,10))\n",
    "plt.barh(np.arange(nba_by_team.num_rows),nba_by_team.column('count'))\n",
    "plt.yticks(np.arange(nba_by_team.num_rows),nba_by_team.column('team'), verticalalignment='bottom',fontsize='large')\n",
    "plt.xlabel(\"Players per team\")\n",
    "plt.show()"
   ]
  },
  {
   "cell_type": "code",
   "execution_count": 7,
   "metadata": {
    "collapsed": false
   },
   "outputs": [
    {
     "data": {
      "text/html": [
       "<table border=\"1\" class=\"dataframe\">\n",
       "    <thead>\n",
       "        <tr>\n",
       "            <th>team</th> <th>position</th> <th>salary max</th>\n",
       "        </tr>\n",
       "    </thead>\n",
       "    <tbody>\n",
       "        <tr>\n",
       "            <td>Atlanta Hawks </td> <td>C       </td> <td>12        </td>\n",
       "        </tr>\n",
       "    </tbody>\n",
       "        <tr>\n",
       "            <td>Atlanta Hawks </td> <td>PF      </td> <td>18.6717   </td>\n",
       "        </tr>\n",
       "    </tbody>\n",
       "        <tr>\n",
       "            <td>Atlanta Hawks </td> <td>PG      </td> <td>8         </td>\n",
       "        </tr>\n",
       "    </tbody>\n",
       "        <tr>\n",
       "            <td>Atlanta Hawks </td> <td>SF      </td> <td>4         </td>\n",
       "        </tr>\n",
       "    </tbody>\n",
       "        <tr>\n",
       "            <td>Atlanta Hawks </td> <td>SG      </td> <td>5.74648   </td>\n",
       "        </tr>\n",
       "    </tbody>\n",
       "        <tr>\n",
       "            <td>Boston Celtics</td> <td>C       </td> <td>2.61698   </td>\n",
       "        </tr>\n",
       "    </tbody>\n",
       "        <tr>\n",
       "            <td>Boston Celtics</td> <td>PF      </td> <td>5         </td>\n",
       "        </tr>\n",
       "    </tbody>\n",
       "        <tr>\n",
       "            <td>Boston Celtics</td> <td>PG      </td> <td>7.73034   </td>\n",
       "        </tr>\n",
       "    </tbody>\n",
       "        <tr>\n",
       "            <td>Boston Celtics</td> <td>SF      </td> <td>6.79612   </td>\n",
       "        </tr>\n",
       "    </tbody>\n",
       "        <tr>\n",
       "            <td>Boston Celtics</td> <td>SG      </td> <td>3.42551   </td>\n",
       "        </tr>\n",
       "    </tbody>\n",
       "</table>\n",
       "<p>... (137 rows omitted)</p"
      ],
      "text/plain": [
       "team           | position | salary max\n",
       "Atlanta Hawks  | C        | 12\n",
       "Atlanta Hawks  | PF       | 18.6717\n",
       "Atlanta Hawks  | PG       | 8\n",
       "Atlanta Hawks  | SF       | 4\n",
       "Atlanta Hawks  | SG       | 5.74648\n",
       "Boston Celtics | C        | 2.61698\n",
       "Boston Celtics | PF       | 5\n",
       "Boston Celtics | PG       | 7.73034\n",
       "Boston Celtics | SF       | 6.79612\n",
       "Boston Celtics | SG       | 3.42551\n",
       "... (137 rows omitted)"
      ]
     },
     "execution_count": 7,
     "metadata": {},
     "output_type": "execute_result"
    }
   ],
   "source": [
    "#3\n",
    "nba16.groups(['team', 'position'], max).drop([\"player max\", \"id max\"])"
   ]
  },
  {
   "cell_type": "code",
   "execution_count": 8,
   "metadata": {
    "collapsed": false
   },
   "outputs": [
    {
     "data": {
      "text/html": [
       "<table border=\"1\" class=\"dataframe\">\n",
       "    <thead>\n",
       "        <tr>\n",
       "            <th>agent</th> <th>salary mean</th> <th>count</th>\n",
       "        </tr>\n",
       "    </thead>\n",
       "    <tbody>\n",
       "        <tr>\n",
       "            <td>Juan Perez     </td> <td>2.01586e+07</td> <td>1    </td>\n",
       "        </tr>\n",
       "    </tbody>\n",
       "        <tr>\n",
       "            <td>Henry Thomas   </td> <td>1.57207e+07</td> <td>3    </td>\n",
       "        </tr>\n",
       "    </tbody>\n",
       "        <tr>\n",
       "            <td>Wallace Prather</td> <td>1.35e+07   </td> <td>1    </td>\n",
       "        </tr>\n",
       "    </tbody>\n",
       "        <tr>\n",
       "            <td>Rich Paul      </td> <td>1.06417e+07</td> <td>3    </td>\n",
       "        </tr>\n",
       "    </tbody>\n",
       "        <tr>\n",
       "            <td>Mike Conley    </td> <td>9.98843e+06</td> <td>1    </td>\n",
       "        </tr>\n",
       "    </tbody>\n",
       "        <tr>\n",
       "            <td>Rob Pelinka    </td> <td>9.71997e+06</td> <td>8    </td>\n",
       "        </tr>\n",
       "    </tbody>\n",
       "        <tr>\n",
       "            <td>Bill Neff      </td> <td>8e+06      </td> <td>1    </td>\n",
       "        </tr>\n",
       "    </tbody>\n",
       "        <tr>\n",
       "            <td>Dan Fegan      </td> <td>7.74055e+06</td> <td>14   </td>\n",
       "        </tr>\n",
       "    </tbody>\n",
       "        <tr>\n",
       "            <td>Max Ergul      </td> <td>7.47141e+06</td> <td>1    </td>\n",
       "        </tr>\n",
       "    </tbody>\n",
       "        <tr>\n",
       "            <td>Jeff Austin    </td> <td>7.44468e+06</td> <td>5    </td>\n",
       "        </tr>\n",
       "    </tbody>\n",
       "</table>\n",
       "<p>... (58 rows omitted)</p"
      ],
      "text/plain": [
       "agent           | salary mean | count\n",
       "Juan Perez      | 2.01586e+07 | 1\n",
       "Henry Thomas    | 1.57207e+07 | 3\n",
       "Wallace Prather | 1.35e+07    | 1\n",
       "Rich Paul       | 1.06417e+07 | 3\n",
       "Mike Conley     | 9.98843e+06 | 1\n",
       "Rob Pelinka     | 9.71997e+06 | 8\n",
       "Bill Neff       | 8e+06       | 1\n",
       "Dan Fegan       | 7.74055e+06 | 14\n",
       "Max Ergul       | 7.47141e+06 | 1\n",
       "Jeff Austin     | 7.44468e+06 | 5\n",
       "... (58 rows omitted)"
      ]
     },
     "execution_count": 8,
     "metadata": {},
     "output_type": "execute_result"
    }
   ],
   "source": [
    "#4\n",
    "nba16 = nba13to19.where(\"season\", 2016)\n",
    "agent_salary = nba16.group(\"agent\", np.mean).select([\"agent\", \"salary mean\"])\n",
    "agent_count = nba16.group(\"agent\")\n",
    "agent = agent_salary.join(\"agent\", agent_count).sort(\"salary mean\", descending=True)\n",
    "agent"
   ]
  },
  {
   "cell_type": "code",
   "execution_count": 9,
   "metadata": {
    "collapsed": false
   },
   "outputs": [
    {
     "data": {
      "text/html": [
       "<table border=\"1\" class=\"dataframe\">\n",
       "    <thead>\n",
       "        <tr>\n",
       "            <th>agent</th> <th>salary mean</th> <th>count</th> <th>salary_ranking</th>\n",
       "        </tr>\n",
       "    </thead>\n",
       "    <tbody>\n",
       "        <tr>\n",
       "            <td>Juan Perez     </td> <td>2.01586e+07</td> <td>1    </td> <td>1             </td>\n",
       "        </tr>\n",
       "    </tbody>\n",
       "        <tr>\n",
       "            <td>Henry Thomas   </td> <td>1.57207e+07</td> <td>3    </td> <td>2             </td>\n",
       "        </tr>\n",
       "    </tbody>\n",
       "        <tr>\n",
       "            <td>Wallace Prather</td> <td>1.35e+07   </td> <td>1    </td> <td>3             </td>\n",
       "        </tr>\n",
       "    </tbody>\n",
       "        <tr>\n",
       "            <td>Rich Paul      </td> <td>1.06417e+07</td> <td>3    </td> <td>4             </td>\n",
       "        </tr>\n",
       "    </tbody>\n",
       "        <tr>\n",
       "            <td>Mike Conley    </td> <td>9.98843e+06</td> <td>1    </td> <td>5             </td>\n",
       "        </tr>\n",
       "    </tbody>\n",
       "        <tr>\n",
       "            <td>Rob Pelinka    </td> <td>9.71997e+06</td> <td>8    </td> <td>6             </td>\n",
       "        </tr>\n",
       "    </tbody>\n",
       "        <tr>\n",
       "            <td>Bill Neff      </td> <td>8e+06      </td> <td>1    </td> <td>7             </td>\n",
       "        </tr>\n",
       "    </tbody>\n",
       "        <tr>\n",
       "            <td>Dan Fegan      </td> <td>7.74055e+06</td> <td>14   </td> <td>8             </td>\n",
       "        </tr>\n",
       "    </tbody>\n",
       "        <tr>\n",
       "            <td>Max Ergul      </td> <td>7.47141e+06</td> <td>1    </td> <td>9             </td>\n",
       "        </tr>\n",
       "    </tbody>\n",
       "        <tr>\n",
       "            <td>Jeff Austin    </td> <td>7.44468e+06</td> <td>5    </td> <td>10            </td>\n",
       "        </tr>\n",
       "    </tbody>\n",
       "</table>\n",
       "<p>... (58 rows omitted)</p"
      ],
      "text/plain": [
       "agent           | salary mean | count | salary_ranking\n",
       "Juan Perez      | 2.01586e+07 | 1     | 1\n",
       "Henry Thomas    | 1.57207e+07 | 3     | 2\n",
       "Wallace Prather | 1.35e+07    | 1     | 3\n",
       "Rich Paul       | 1.06417e+07 | 3     | 4\n",
       "Mike Conley     | 9.98843e+06 | 1     | 5\n",
       "Rob Pelinka     | 9.71997e+06 | 8     | 6\n",
       "Bill Neff       | 8e+06       | 1     | 7\n",
       "Dan Fegan       | 7.74055e+06 | 14    | 8\n",
       "Max Ergul       | 7.47141e+06 | 1     | 9\n",
       "Jeff Austin     | 7.44468e+06 | 5     | 10\n",
       "... (58 rows omitted)"
      ]
     },
     "execution_count": 9,
     "metadata": {},
     "output_type": "execute_result"
    }
   ],
   "source": [
    "#5\n",
    "agent = agent.with_column(\"salary_ranking\", np.arange(1, agent.num_rows+1))\n",
    "agent"
   ]
  },
  {
   "cell_type": "code",
   "execution_count": 10,
   "metadata": {
    "collapsed": false
   },
   "outputs": [
    {
     "data": {
      "text/html": [
       "<table border=\"1\" class=\"dataframe\">\n",
       "    <thead>\n",
       "        <tr>\n",
       "            <th>agent</th> <th>salary mean</th> <th>count</th> <th>salary_ranking</th>\n",
       "        </tr>\n",
       "    </thead>\n",
       "    <tbody>\n",
       "        <tr>\n",
       "            <td>Arn Tellem      </td> <td>7.09468e+06</td> <td>25   </td> <td>12            </td>\n",
       "        </tr>\n",
       "    </tbody>\n",
       "        <tr>\n",
       "            <td>Jeff Schwartz   </td> <td>7.23491e+06</td> <td>20   </td> <td>11            </td>\n",
       "        </tr>\n",
       "    </tbody>\n",
       "        <tr>\n",
       "            <td>Andy Miller     </td> <td>4.99468e+06</td> <td>15   </td> <td>21            </td>\n",
       "        </tr>\n",
       "    </tbody>\n",
       "        <tr>\n",
       "            <td>Mark Bartelstein</td> <td>4.57187e+06</td> <td>14   </td> <td>24            </td>\n",
       "        </tr>\n",
       "    </tbody>\n",
       "        <tr>\n",
       "            <td>Dan Fegan       </td> <td>7.74055e+06</td> <td>14   </td> <td>8             </td>\n",
       "        </tr>\n",
       "    </tbody>\n",
       "        <tr>\n",
       "            <td>Bill Duffy      </td> <td>3.23522e+06</td> <td>12   </td> <td>30            </td>\n",
       "        </tr>\n",
       "    </tbody>\n",
       "        <tr>\n",
       "            <td>Rob Pelinka     </td> <td>9.71997e+06</td> <td>8    </td> <td>6             </td>\n",
       "        </tr>\n",
       "    </tbody>\n",
       "        <tr>\n",
       "            <td>Leon Rose       </td> <td>6.68174e+06</td> <td>7    </td> <td>14            </td>\n",
       "        </tr>\n",
       "    </tbody>\n",
       "        <tr>\n",
       "            <td>David Falk      </td> <td>6.95141e+06</td> <td>5    </td> <td>13            </td>\n",
       "        </tr>\n",
       "    </tbody>\n",
       "        <tr>\n",
       "            <td>Jeff Austin     </td> <td>7.44468e+06</td> <td>5    </td> <td>10            </td>\n",
       "        </tr>\n",
       "    </tbody>\n",
       "</table>\n",
       "<p>... (58 rows omitted)</p"
      ],
      "text/plain": [
       "agent            | salary mean | count | salary_ranking\n",
       "Arn Tellem       | 7.09468e+06 | 25    | 12\n",
       "Jeff Schwartz    | 7.23491e+06 | 20    | 11\n",
       "Andy Miller      | 4.99468e+06 | 15    | 21\n",
       "Mark Bartelstein | 4.57187e+06 | 14    | 24\n",
       "Dan Fegan        | 7.74055e+06 | 14    | 8\n",
       "Bill Duffy       | 3.23522e+06 | 12    | 30\n",
       "Rob Pelinka      | 9.71997e+06 | 8     | 6\n",
       "Leon Rose        | 6.68174e+06 | 7     | 14\n",
       "David Falk       | 6.95141e+06 | 5     | 13\n",
       "Jeff Austin      | 7.44468e+06 | 5     | 10\n",
       "... (58 rows omitted)"
      ]
     },
     "execution_count": 10,
     "metadata": {},
     "output_type": "execute_result"
    }
   ],
   "source": [
    "agent.sort(\"count\", descending=True)"
   ]
  }
 ],
 "metadata": {
  "anaconda-cloud": {},
  "kernelspec": {
   "display_name": "Python [default]",
   "language": "python",
   "name": "python3"
  },
  "language_info": {
   "codemirror_mode": {
    "name": "ipython",
    "version": 3
   },
   "file_extension": ".py",
   "mimetype": "text/x-python",
   "name": "python",
   "nbconvert_exporter": "python",
   "pygments_lexer": "ipython3",
   "version": "3.5.2"
  }
 },
 "nbformat": 4,
 "nbformat_minor": 1
}
