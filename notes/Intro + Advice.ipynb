{
 "cells": [
  {
   "cell_type": "markdown",
   "metadata": {},
   "source": [
    "Introduction and advice\n",
    "=============\n"
   ]
  },
  {
   "cell_type": "markdown",
   "metadata": {},
   "source": [
    "This class is a great starting point for anyone who wants to learn more about the world of data and how to make sense of all this information that is available to us. Life after Data 8 is full of exciting opportunities and our goal will be to equip you with the fundamental understanding needed to go out and explore what real Data Science.  My personal advice to do well in this course has two parts. \n",
    "\n",
    "A) **If you have no programming experience try to get as much practice with Python as you can in the beginning of the semester!** This will help you a lot with homeworks and projects and will also let you focus more on your conceptual understanding of the material.\n",
    "\n",
    "B) Having said that, be sure to **really understand the concepts we discuss** and what you are doing and for what reason. This class will require you to not only remember what each concept means but also how to apply it to examples in the real world.\n",
    "\n",
    "Over the course of the semester I will be sharing with you some notes for each chapter of the textbook to help you with your studying. If you find any of them to be unclear or confusing just let me know. Your feedback is always appreciated!\n",
    "\n",
    "If you need any help or guidance, just let me know and I will be more than happy to help!\n",
    "\n",
    "Vasilis\n",
    "\n",
    "<span style=\"color:red\">**Warning**: This set of notes is NOT a comprehensive list of the topics you will be examined on. They are meant to function as supplemental readings to help you with your understanding of the corresonding textbook chapters.</span>\n"
   ]
  }
 ],
 "metadata": {
  "anaconda-cloud": {},
  "kernelspec": {
   "display_name": "Python [conda root]",
   "language": "python",
   "name": "conda-root-py"
  },
  "language_info": {
   "codemirror_mode": {
    "name": "ipython",
    "version": 3
   },
   "file_extension": ".py",
   "mimetype": "text/x-python",
   "name": "python",
   "nbconvert_exporter": "python",
   "pygments_lexer": "ipython3",
   "version": "3.5.2"
  }
 },
 "nbformat": 4,
 "nbformat_minor": 1
}
