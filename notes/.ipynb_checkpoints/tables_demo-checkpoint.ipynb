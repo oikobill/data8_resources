{
 "cells": [
  {
   "cell_type": "markdown",
   "metadata": {
    "slideshow": {
     "slide_type": "fragment"
    }
   },
   "source": [
    "## Tables Demo"
   ]
  },
  {
   "cell_type": "markdown",
   "metadata": {
    "slideshow": {
     "slide_type": "slide"
    }
   },
   "source": [
    "## Exploring the survival on the titanic\n",
    "\n",
    "Data from <a href=\"https://www.kaggle.com/c/titanic\"> https://www.kaggle.com/c/titanic</a>"
   ]
  },
  {
   "cell_type": "code",
   "execution_count": 1,
   "metadata": {
    "collapsed": true
   },
   "outputs": [],
   "source": [
    "from datascience import *\n",
    "import numpy as np"
   ]
  },
  {
   "cell_type": "code",
   "execution_count": 2,
   "metadata": {
    "collapsed": false
   },
   "outputs": [
    {
     "data": {
      "text/html": [
       "<table border=\"1\" class=\"dataframe\">\n",
       "    <thead>\n",
       "        <tr>\n",
       "            <th>PassengerId</th> <th>Survived</th> <th>Pclass</th> <th>Name</th> <th>Sex</th> <th>Age</th> <th>SibSp</th> <th>Parch</th> <th>Ticket</th> <th>Fare</th> <th>Cabin</th> <th>Embarked</th>\n",
       "        </tr>\n",
       "    </thead>\n",
       "    <tbody>\n",
       "        <tr>\n",
       "            <td>1          </td> <td>0       </td> <td>3     </td> <td>Braund, Mr. Owen Harris                            </td> <td>male  </td> <td>22  </td> <td>1    </td> <td>0    </td> <td>A/5 21171       </td> <td>7.25   </td> <td>nan  </td> <td>S       </td>\n",
       "        </tr>\n",
       "    </tbody>\n",
       "        <tr>\n",
       "            <td>2          </td> <td>1       </td> <td>1     </td> <td>Cumings, Mrs. John Bradley (Florence Briggs Thayer)</td> <td>female</td> <td>38  </td> <td>1    </td> <td>0    </td> <td>PC 17599        </td> <td>71.2833</td> <td>C85  </td> <td>C       </td>\n",
       "        </tr>\n",
       "    </tbody>\n",
       "        <tr>\n",
       "            <td>3          </td> <td>1       </td> <td>3     </td> <td>Heikkinen, Miss. Laina                             </td> <td>female</td> <td>26  </td> <td>0    </td> <td>0    </td> <td>STON/O2. 3101282</td> <td>7.925  </td> <td>nan  </td> <td>S       </td>\n",
       "        </tr>\n",
       "    </tbody>\n",
       "        <tr>\n",
       "            <td>4          </td> <td>1       </td> <td>1     </td> <td>Futrelle, Mrs. Jacques Heath (Lily May Peel)       </td> <td>female</td> <td>35  </td> <td>1    </td> <td>0    </td> <td>113803          </td> <td>53.1   </td> <td>C123 </td> <td>S       </td>\n",
       "        </tr>\n",
       "    </tbody>\n",
       "        <tr>\n",
       "            <td>5          </td> <td>0       </td> <td>3     </td> <td>Allen, Mr. William Henry                           </td> <td>male  </td> <td>35  </td> <td>0    </td> <td>0    </td> <td>373450          </td> <td>8.05   </td> <td>nan  </td> <td>S       </td>\n",
       "        </tr>\n",
       "    </tbody>\n",
       "</table>\n",
       "<p>... (886 rows omitted)</p"
      ],
      "text/plain": [
       "<IPython.core.display.HTML object>"
      ]
     },
     "metadata": {},
     "output_type": "display_data"
    }
   ],
   "source": [
    "#reading a dataset from a csv\n",
    "train = Table.read_table(\"https://raw.githubusercontent.com/oikobill/Kaggle/master/Titanic/data/train.csv\")\n",
    "train.show(5) #to show only the 5 first rows of the dataset"
   ]
  },
  {
   "cell_type": "code",
   "execution_count": 17,
   "metadata": {
    "collapsed": false
   },
   "outputs": [
    {
     "name": "stdout",
     "output_type": "stream",
     "text": [
      "Number of people:  891\n",
      "Number of columns/features:  11\n"
     ]
    }
   ],
   "source": [
    "#what are the dimensions of my data?\n",
    "print(\"Number of people: \", train.num_rows)\n",
    "print(\"Number of columns/features: \", train.num_columns)"
   ]
  },
  {
   "cell_type": "code",
   "execution_count": 3,
   "metadata": {
    "collapsed": false,
    "scrolled": true
   },
   "outputs": [
    {
     "data": {
      "text/plain": [
       "array([ 22.  ,  38.  ,  26.  ,  35.  ,  35.  ,    nan,  54.  ,   2.  ,\n",
       "        27.  ,  14.  ,   4.  ,  58.  ,  20.  ,  39.  ,  14.  ,  55.  ,\n",
       "         2.  ,    nan,  31.  ,    nan,  35.  ,  34.  ,  15.  ,  28.  ,\n",
       "         8.  ,  38.  ,    nan,  19.  ,    nan,    nan,  40.  ,    nan,\n",
       "          nan,  66.  ,  28.  ,  42.  ,    nan,  21.  ,  18.  ,  14.  ,\n",
       "        40.  ,  27.  ,    nan,   3.  ,  19.  ,    nan,    nan,    nan,\n",
       "          nan,  18.  ,   7.  ,  21.  ,  49.  ,  29.  ,  65.  ,    nan,\n",
       "        21.  ,  28.5 ,   5.  ,  11.  ,  22.  ,  38.  ,  45.  ,   4.  ,\n",
       "          nan,    nan,  29.  ,  19.  ,  17.  ,  26.  ,  32.  ,  16.  ,\n",
       "        21.  ,  26.  ,  32.  ,  25.  ,    nan,    nan,   0.83,  30.  ,\n",
       "        22.  ,  29.  ,    nan,  28.  ,  17.  ,  33.  ,  16.  ,    nan,\n",
       "        23.  ,  24.  ,  29.  ,  20.  ,  46.  ,  26.  ,  59.  ,    nan,\n",
       "        71.  ,  23.  ,  34.  ,  34.  ,  28.  ,    nan,  21.  ,  33.  ,\n",
       "        37.  ,  28.  ,  21.  ,    nan,  38.  ,    nan,  47.  ,  14.5 ,\n",
       "        22.  ,  20.  ,  17.  ,  21.  ,  70.5 ,  29.  ,  24.  ,   2.  ,\n",
       "        21.  ,    nan,  32.5 ,  32.5 ,  54.  ,  12.  ,    nan,  24.  ,\n",
       "          nan,  45.  ,  33.  ,  20.  ,  47.  ,  29.  ,  25.  ,  23.  ,\n",
       "        19.  ,  37.  ,  16.  ,  24.  ,    nan,  22.  ,  24.  ,  19.  ,\n",
       "        18.  ,  19.  ,  27.  ,   9.  ,  36.5 ,  42.  ,  51.  ,  22.  ,\n",
       "        55.5 ,  40.5 ,    nan,  51.  ,  16.  ,  30.  ,    nan,    nan,\n",
       "        44.  ,  40.  ,  26.  ,  17.  ,   1.  ,   9.  ,    nan,  45.  ,\n",
       "          nan,  28.  ,  61.  ,   4.  ,   1.  ,  21.  ,  56.  ,  18.  ,\n",
       "          nan,  50.  ,  30.  ,  36.  ,    nan,    nan,   9.  ,   1.  ,\n",
       "         4.  ,    nan,    nan,  45.  ,  40.  ,  36.  ,  32.  ,  19.  ,\n",
       "        19.  ,   3.  ,  44.  ,  58.  ,    nan,  42.  ,    nan,  24.  ,\n",
       "        28.  ,    nan,  34.  ,  45.5 ,  18.  ,   2.  ,  32.  ,  26.  ,\n",
       "        16.  ,  40.  ,  24.  ,  35.  ,  22.  ,  30.  ,    nan,  31.  ,\n",
       "        27.  ,  42.  ,  32.  ,  30.  ,  16.  ,  27.  ,  51.  ,    nan,\n",
       "        38.  ,  22.  ,  19.  ,  20.5 ,  18.  ,    nan,  35.  ,  29.  ,\n",
       "        59.  ,   5.  ,  24.  ,    nan,  44.  ,   8.  ,  19.  ,  33.  ,\n",
       "          nan,    nan,  29.  ,  22.  ,  30.  ,  44.  ,  25.  ,  24.  ,\n",
       "        37.  ,  54.  ,    nan,  29.  ,  62.  ,  30.  ,  41.  ,  29.  ,\n",
       "          nan,  30.  ,  35.  ,  50.  ,    nan,   3.  ,  52.  ,  40.  ,\n",
       "          nan,  36.  ,  16.  ,  25.  ,  58.  ,  35.  ,    nan,  25.  ,\n",
       "        41.  ,  37.  ,    nan,  63.  ,  45.  ,    nan,   7.  ,  35.  ,\n",
       "        65.  ,  28.  ,  16.  ,  19.  ,    nan,  33.  ,  30.  ,  22.  ,\n",
       "        42.  ,  22.  ,  26.  ,  19.  ,  36.  ,  24.  ,  24.  ,    nan,\n",
       "        23.5 ,   2.  ,    nan,  50.  ,    nan,    nan,  19.  ,    nan,\n",
       "          nan,   0.92,    nan,  17.  ,  30.  ,  30.  ,  24.  ,  18.  ,\n",
       "        26.  ,  28.  ,  43.  ,  26.  ,  24.  ,  54.  ,  31.  ,  40.  ,\n",
       "        22.  ,  27.  ,  30.  ,  22.  ,    nan,  36.  ,  61.  ,  36.  ,\n",
       "        31.  ,  16.  ,    nan,  45.5 ,  38.  ,  16.  ,    nan,    nan,\n",
       "        29.  ,  41.  ,  45.  ,  45.  ,   2.  ,  24.  ,  28.  ,  25.  ,\n",
       "        36.  ,  24.  ,  40.  ,    nan,   3.  ,  42.  ,  23.  ,    nan,\n",
       "        15.  ,  25.  ,    nan,  28.  ,  22.  ,  38.  ,    nan,    nan,\n",
       "        40.  ,  29.  ,  45.  ,  35.  ,    nan,  30.  ,  60.  ,    nan,\n",
       "          nan,  24.  ,  25.  ,  18.  ,  19.  ,  22.  ,   3.  ,    nan,\n",
       "        22.  ,  27.  ,  20.  ,  19.  ,  42.  ,   1.  ,  32.  ,  35.  ,\n",
       "          nan,  18.  ,   1.  ,  36.  ,    nan,  17.  ,  36.  ,  21.  ,\n",
       "        28.  ,  23.  ,  24.  ,  22.  ,  31.  ,  46.  ,  23.  ,  28.  ,\n",
       "        39.  ,  26.  ,  21.  ,  28.  ,  20.  ,  34.  ,  51.  ,   3.  ,\n",
       "        21.  ,    nan,    nan,    nan,  33.  ,    nan,  44.  ,    nan,\n",
       "        34.  ,  18.  ,  30.  ,  10.  ,    nan,  21.  ,  29.  ,  28.  ,\n",
       "        18.  ,    nan,  28.  ,  19.  ,    nan,  32.  ,  28.  ,    nan,\n",
       "        42.  ,  17.  ,  50.  ,  14.  ,  21.  ,  24.  ,  64.  ,  31.  ,\n",
       "        45.  ,  20.  ,  25.  ,  28.  ,    nan,   4.  ,  13.  ,  34.  ,\n",
       "         5.  ,  52.  ,  36.  ,    nan,  30.  ,  49.  ,    nan,  29.  ,\n",
       "        65.  ,    nan,  50.  ,    nan,  48.  ,  34.  ,  47.  ,  48.  ,\n",
       "          nan,  38.  ,    nan,  56.  ,    nan,   0.75,    nan,  38.  ,\n",
       "        33.  ,  23.  ,  22.  ,    nan,  34.  ,  29.  ,  22.  ,   2.  ,\n",
       "         9.  ,    nan,  50.  ,  63.  ,  25.  ,    nan,  35.  ,  58.  ,\n",
       "        30.  ,   9.  ,    nan,  21.  ,  55.  ,  71.  ,  21.  ,    nan,\n",
       "        54.  ,    nan,  25.  ,  24.  ,  17.  ,  21.  ,    nan,  37.  ,\n",
       "        16.  ,  18.  ,  33.  ,    nan,  28.  ,  26.  ,  29.  ,    nan,\n",
       "        36.  ,  54.  ,  24.  ,  47.  ,  34.  ,    nan,  36.  ,  32.  ,\n",
       "        30.  ,  22.  ,    nan,  44.  ,    nan,  40.5 ,  50.  ,    nan,\n",
       "        39.  ,  23.  ,   2.  ,    nan,  17.  ,    nan,  30.  ,   7.  ,\n",
       "        45.  ,  30.  ,    nan,  22.  ,  36.  ,   9.  ,  11.  ,  32.  ,\n",
       "        50.  ,  64.  ,  19.  ,    nan,  33.  ,   8.  ,  17.  ,  27.  ,\n",
       "          nan,  22.  ,  22.  ,  62.  ,  48.  ,    nan,  39.  ,  36.  ,\n",
       "          nan,  40.  ,  28.  ,    nan,    nan,  24.  ,  19.  ,  29.  ,\n",
       "          nan,  32.  ,  62.  ,  53.  ,  36.  ,    nan,  16.  ,  19.  ,\n",
       "        34.  ,  39.  ,    nan,  32.  ,  25.  ,  39.  ,  54.  ,  36.  ,\n",
       "          nan,  18.  ,  47.  ,  60.  ,  22.  ,    nan,  35.  ,  52.  ,\n",
       "        47.  ,    nan,  37.  ,  36.  ,    nan,  49.  ,    nan,  49.  ,\n",
       "        24.  ,    nan,    nan,  44.  ,  35.  ,  36.  ,  30.  ,  27.  ,\n",
       "        22.  ,  40.  ,  39.  ,    nan,    nan,    nan,  35.  ,  24.  ,\n",
       "        34.  ,  26.  ,   4.  ,  26.  ,  27.  ,  42.  ,  20.  ,  21.  ,\n",
       "        21.  ,  61.  ,  57.  ,  21.  ,  26.  ,    nan,  80.  ,  51.  ,\n",
       "        32.  ,    nan,   9.  ,  28.  ,  32.  ,  31.  ,  41.  ,    nan,\n",
       "        20.  ,  24.  ,   2.  ,    nan,   0.75,  48.  ,  19.  ,  56.  ,\n",
       "          nan,  23.  ,    nan,  18.  ,  21.  ,    nan,  18.  ,  24.  ,\n",
       "          nan,  32.  ,  23.  ,  58.  ,  50.  ,  40.  ,  47.  ,  36.  ,\n",
       "        20.  ,  32.  ,  25.  ,    nan,  43.  ,    nan,  40.  ,  31.  ,\n",
       "        70.  ,  31.  ,    nan,  18.  ,  24.5 ,  18.  ,  43.  ,  36.  ,\n",
       "          nan,  27.  ,  20.  ,  14.  ,  60.  ,  25.  ,  14.  ,  19.  ,\n",
       "        18.  ,  15.  ,  31.  ,   4.  ,    nan,  25.  ,  60.  ,  52.  ,\n",
       "        44.  ,    nan,  49.  ,  42.  ,  18.  ,  35.  ,  18.  ,  25.  ,\n",
       "        26.  ,  39.  ,  45.  ,  42.  ,  22.  ,    nan,  24.  ,    nan,\n",
       "        48.  ,  29.  ,  52.  ,  19.  ,  38.  ,  27.  ,    nan,  33.  ,\n",
       "         6.  ,  17.  ,  34.  ,  50.  ,  27.  ,  20.  ,  30.  ,    nan,\n",
       "        25.  ,  25.  ,  29.  ,  11.  ,    nan,  23.  ,  23.  ,  28.5 ,\n",
       "        48.  ,  35.  ,    nan,    nan,    nan,  36.  ,  21.  ,  24.  ,\n",
       "        31.  ,  70.  ,  16.  ,  30.  ,  19.  ,  31.  ,   4.  ,   6.  ,\n",
       "        33.  ,  23.  ,  48.  ,   0.67,  28.  ,  18.  ,  34.  ,  33.  ,\n",
       "          nan,  41.  ,  20.  ,  36.  ,  16.  ,  51.  ,    nan,  30.5 ,\n",
       "          nan,  32.  ,  24.  ,  48.  ,  57.  ,    nan,  54.  ,  18.  ,\n",
       "          nan,   5.  ,    nan,  43.  ,  13.  ,  17.  ,  29.  ,    nan,\n",
       "        25.  ,  25.  ,  18.  ,   8.  ,   1.  ,  46.  ,    nan,  16.  ,\n",
       "          nan,    nan,  25.  ,  39.  ,  49.  ,  31.  ,  30.  ,  30.  ,\n",
       "        34.  ,  31.  ,  11.  ,   0.42,  27.  ,  31.  ,  39.  ,  18.  ,\n",
       "        39.  ,  33.  ,  26.  ,  39.  ,  35.  ,   6.  ,  30.5 ,    nan,\n",
       "        23.  ,  31.  ,  43.  ,  10.  ,  52.  ,  27.  ,  38.  ,  27.  ,\n",
       "         2.  ,    nan,    nan,   1.  ,    nan,  62.  ,  15.  ,   0.83,\n",
       "          nan,  23.  ,  18.  ,  39.  ,  21.  ,    nan,  32.  ,    nan,\n",
       "        20.  ,  16.  ,  30.  ,  34.5 ,  17.  ,  42.  ,    nan,  35.  ,\n",
       "        28.  ,    nan,   4.  ,  74.  ,   9.  ,  16.  ,  44.  ,  18.  ,\n",
       "        45.  ,  51.  ,  24.  ,    nan,  41.  ,  21.  ,  48.  ,    nan,\n",
       "        24.  ,  42.  ,  27.  ,  31.  ,    nan,   4.  ,  26.  ,  47.  ,\n",
       "        33.  ,  47.  ,  28.  ,  15.  ,  20.  ,  19.  ,    nan,  56.  ,\n",
       "        25.  ,  33.  ,  22.  ,  28.  ,  25.  ,  39.  ,  27.  ,  19.  ,\n",
       "          nan,  26.  ,  32.  ])"
      ]
     },
     "execution_count": 3,
     "metadata": {},
     "output_type": "execute_result"
    }
   ],
   "source": [
    "#selecting columns from a datascience table\n",
    "passenger_age = train.column(\"Age\")\n",
    "passenger_age #note that the data type returned is a numpy array"
   ]
  },
  {
   "cell_type": "code",
   "execution_count": 4,
   "metadata": {
    "collapsed": false
   },
   "outputs": [
    {
     "data": {
      "text/plain": [
       "('PassengerId',\n",
       " 'Survived',\n",
       " 'Pclass',\n",
       " 'Name',\n",
       " 'Sex',\n",
       " 'Age',\n",
       " 'SibSp',\n",
       " 'Parch',\n",
       " 'Ticket',\n",
       " 'Fare',\n",
       " 'Cabin',\n",
       " 'Embarked')"
      ]
     },
     "execution_count": 4,
     "metadata": {},
     "output_type": "execute_result"
    }
   ],
   "source": [
    "#Getting the column names from our table\n",
    "train.labels"
   ]
  },
  {
   "cell_type": "markdown",
   "metadata": {},
   "source": [
    "Some of the label names are not very indicative of the content\n",
    "\n",
    "**SibSp:** Number of siblings/spouses aboard\n",
    "\n",
    "**Parch:** Number of parents/children aboard\n",
    "\n",
    "**Embarked: ** Port of embarkation"
   ]
  },
  {
   "cell_type": "code",
   "execution_count": 5,
   "metadata": {
    "collapsed": false
   },
   "outputs": [
    {
     "data": {
      "text/html": [
       "<table border=\"1\" class=\"dataframe\">\n",
       "    <thead>\n",
       "        <tr>\n",
       "            <th>id</th> <th>survived</th> <th>passenger_class</th> <th>name</th> <th>sex</th> <th>age</th> <th>SibSp</th> <th>Parch</th> <th>ticket</th> <th>fare</th> <th>cabin</th> <th>port</th>\n",
       "        </tr>\n",
       "    </thead>\n",
       "    <tbody>\n",
       "        <tr>\n",
       "            <td>1   </td> <td>0       </td> <td>3              </td> <td>Braund, Mr. Owen Harris                            </td> <td>male  </td> <td>22  </td> <td>1    </td> <td>0    </td> <td>A/5 21171       </td> <td>7.25   </td> <td>nan  </td> <td>S   </td>\n",
       "        </tr>\n",
       "    </tbody>\n",
       "        <tr>\n",
       "            <td>2   </td> <td>1       </td> <td>1              </td> <td>Cumings, Mrs. John Bradley (Florence Briggs Thayer)</td> <td>female</td> <td>38  </td> <td>1    </td> <td>0    </td> <td>PC 17599        </td> <td>71.2833</td> <td>C85  </td> <td>C   </td>\n",
       "        </tr>\n",
       "    </tbody>\n",
       "        <tr>\n",
       "            <td>3   </td> <td>1       </td> <td>3              </td> <td>Heikkinen, Miss. Laina                             </td> <td>female</td> <td>26  </td> <td>0    </td> <td>0    </td> <td>STON/O2. 3101282</td> <td>7.925  </td> <td>nan  </td> <td>S   </td>\n",
       "        </tr>\n",
       "    </tbody>\n",
       "        <tr>\n",
       "            <td>4   </td> <td>1       </td> <td>1              </td> <td>Futrelle, Mrs. Jacques Heath (Lily May Peel)       </td> <td>female</td> <td>35  </td> <td>1    </td> <td>0    </td> <td>113803          </td> <td>53.1   </td> <td>C123 </td> <td>S   </td>\n",
       "        </tr>\n",
       "    </tbody>\n",
       "        <tr>\n",
       "            <td>5   </td> <td>0       </td> <td>3              </td> <td>Allen, Mr. William Henry                           </td> <td>male  </td> <td>35  </td> <td>0    </td> <td>0    </td> <td>373450          </td> <td>8.05   </td> <td>nan  </td> <td>S   </td>\n",
       "        </tr>\n",
       "    </tbody>\n",
       "        <tr>\n",
       "            <td>6   </td> <td>0       </td> <td>3              </td> <td>Moran, Mr. James                                   </td> <td>male  </td> <td>nan </td> <td>0    </td> <td>0    </td> <td>330877          </td> <td>8.4583 </td> <td>nan  </td> <td>Q   </td>\n",
       "        </tr>\n",
       "    </tbody>\n",
       "        <tr>\n",
       "            <td>7   </td> <td>0       </td> <td>1              </td> <td>McCarthy, Mr. Timothy J                            </td> <td>male  </td> <td>54  </td> <td>0    </td> <td>0    </td> <td>17463           </td> <td>51.8625</td> <td>E46  </td> <td>S   </td>\n",
       "        </tr>\n",
       "    </tbody>\n",
       "        <tr>\n",
       "            <td>8   </td> <td>0       </td> <td>3              </td> <td>Palsson, Master. Gosta Leonard                     </td> <td>male  </td> <td>2   </td> <td>3    </td> <td>1    </td> <td>349909          </td> <td>21.075 </td> <td>nan  </td> <td>S   </td>\n",
       "        </tr>\n",
       "    </tbody>\n",
       "        <tr>\n",
       "            <td>9   </td> <td>1       </td> <td>3              </td> <td>Johnson, Mrs. Oscar W (Elisabeth Vilhelmina Berg)  </td> <td>female</td> <td>27  </td> <td>0    </td> <td>2    </td> <td>347742          </td> <td>11.1333</td> <td>nan  </td> <td>S   </td>\n",
       "        </tr>\n",
       "    </tbody>\n",
       "        <tr>\n",
       "            <td>10  </td> <td>1       </td> <td>2              </td> <td>Nasser, Mrs. Nicholas (Adele Achem)                </td> <td>female</td> <td>14  </td> <td>1    </td> <td>0    </td> <td>237736          </td> <td>30.0708</td> <td>nan  </td> <td>C   </td>\n",
       "        </tr>\n",
       "    </tbody>\n",
       "</table>\n",
       "<p>... (881 rows omitted)</p"
      ],
      "text/plain": [
       "id   | survived | passenger_class | name                                                | sex    | age  | SibSp | Parch | ticket           | fare    | cabin | port\n",
       "1    | 0        | 3               | Braund, Mr. Owen Harris                             | male   | 22   | 1     | 0     | A/5 21171        | 7.25    | nan   | S\n",
       "2    | 1        | 1               | Cumings, Mrs. John Bradley (Florence Briggs Thayer) | female | 38   | 1     | 0     | PC 17599         | 71.2833 | C85   | C\n",
       "3    | 1        | 3               | Heikkinen, Miss. Laina                              | female | 26   | 0     | 0     | STON/O2. 3101282 | 7.925   | nan   | S\n",
       "4    | 1        | 1               | Futrelle, Mrs. Jacques Heath (Lily May Peel)        | female | 35   | 1     | 0     | 113803           | 53.1    | C123  | S\n",
       "5    | 0        | 3               | Allen, Mr. William Henry                            | male   | 35   | 0     | 0     | 373450           | 8.05    | nan   | S\n",
       "6    | 0        | 3               | Moran, Mr. James                                    | male   | nan  | 0     | 0     | 330877           | 8.4583  | nan   | Q\n",
       "7    | 0        | 1               | McCarthy, Mr. Timothy J                             | male   | 54   | 0     | 0     | 17463            | 51.8625 | E46   | S\n",
       "8    | 0        | 3               | Palsson, Master. Gosta Leonard                      | male   | 2    | 3     | 1     | 349909           | 21.075  | nan   | S\n",
       "9    | 1        | 3               | Johnson, Mrs. Oscar W (Elisabeth Vilhelmina Berg)   | female | 27   | 0     | 2     | 347742           | 11.1333 | nan   | S\n",
       "10   | 1        | 2               | Nasser, Mrs. Nicholas (Adele Achem)                 | female | 14   | 1     | 0     | 237736           | 30.0708 | nan   | C\n",
       "... (881 rows omitted)"
      ]
     },
     "execution_count": 5,
     "metadata": {},
     "output_type": "execute_result"
    }
   ],
   "source": [
    "#always rename your column names to something that is more human readable\n",
    "train.relabel(\"Embarked\", \"port\")\n",
    "train.relabel(\"PassengerId\", \"id\")\n",
    "train.relabel(\"Survived\", \"survived\") #I like every column name to be in lowercase\n",
    "train.relabel(\"Pclass\", \"passenger_class\")\n",
    "train.relabel(\"Name\", \"name\")\n",
    "train.relabel(\"Sex\", \"sex\")\n",
    "train.relabel(\"Fare\", \"fare\")\n",
    "train.relabel(\"Cabin\", \"cabin\")\n",
    "train.relabel(\"Ticket\", \"ticket\")\n",
    "train.relabel(\"Age\", \"age\")"
   ]
  },
  {
   "cell_type": "code",
   "execution_count": 6,
   "metadata": {
    "collapsed": false
   },
   "outputs": [
    {
     "data": {
      "text/html": [
       "<table border=\"1\" class=\"dataframe\">\n",
       "    <thead>\n",
       "        <tr>\n",
       "            <th>id</th> <th>survived</th> <th>passenger_class</th> <th>name</th> <th>sex</th> <th>age</th> <th>SibSp</th> <th>Parch</th> <th>ticket</th> <th>fare</th> <th>cabin</th> <th>port</th> <th>family_size</th>\n",
       "        </tr>\n",
       "    </thead>\n",
       "    <tbody>\n",
       "        <tr>\n",
       "            <td>1   </td> <td>0       </td> <td>3              </td> <td>Braund, Mr. Owen Harris                            </td> <td>male  </td> <td>22  </td> <td>1    </td> <td>0    </td> <td>A/5 21171       </td> <td>7.25   </td> <td>nan  </td> <td>S   </td> <td>1          </td>\n",
       "        </tr>\n",
       "    </tbody>\n",
       "        <tr>\n",
       "            <td>2   </td> <td>1       </td> <td>1              </td> <td>Cumings, Mrs. John Bradley (Florence Briggs Thayer)</td> <td>female</td> <td>38  </td> <td>1    </td> <td>0    </td> <td>PC 17599        </td> <td>71.2833</td> <td>C85  </td> <td>C   </td> <td>1          </td>\n",
       "        </tr>\n",
       "    </tbody>\n",
       "        <tr>\n",
       "            <td>3   </td> <td>1       </td> <td>3              </td> <td>Heikkinen, Miss. Laina                             </td> <td>female</td> <td>26  </td> <td>0    </td> <td>0    </td> <td>STON/O2. 3101282</td> <td>7.925  </td> <td>nan  </td> <td>S   </td> <td>0          </td>\n",
       "        </tr>\n",
       "    </tbody>\n",
       "        <tr>\n",
       "            <td>4   </td> <td>1       </td> <td>1              </td> <td>Futrelle, Mrs. Jacques Heath (Lily May Peel)       </td> <td>female</td> <td>35  </td> <td>1    </td> <td>0    </td> <td>113803          </td> <td>53.1   </td> <td>C123 </td> <td>S   </td> <td>1          </td>\n",
       "        </tr>\n",
       "    </tbody>\n",
       "        <tr>\n",
       "            <td>5   </td> <td>0       </td> <td>3              </td> <td>Allen, Mr. William Henry                           </td> <td>male  </td> <td>35  </td> <td>0    </td> <td>0    </td> <td>373450          </td> <td>8.05   </td> <td>nan  </td> <td>S   </td> <td>0          </td>\n",
       "        </tr>\n",
       "    </tbody>\n",
       "        <tr>\n",
       "            <td>6   </td> <td>0       </td> <td>3              </td> <td>Moran, Mr. James                                   </td> <td>male  </td> <td>nan </td> <td>0    </td> <td>0    </td> <td>330877          </td> <td>8.4583 </td> <td>nan  </td> <td>Q   </td> <td>0          </td>\n",
       "        </tr>\n",
       "    </tbody>\n",
       "        <tr>\n",
       "            <td>7   </td> <td>0       </td> <td>1              </td> <td>McCarthy, Mr. Timothy J                            </td> <td>male  </td> <td>54  </td> <td>0    </td> <td>0    </td> <td>17463           </td> <td>51.8625</td> <td>E46  </td> <td>S   </td> <td>0          </td>\n",
       "        </tr>\n",
       "    </tbody>\n",
       "        <tr>\n",
       "            <td>8   </td> <td>0       </td> <td>3              </td> <td>Palsson, Master. Gosta Leonard                     </td> <td>male  </td> <td>2   </td> <td>3    </td> <td>1    </td> <td>349909          </td> <td>21.075 </td> <td>nan  </td> <td>S   </td> <td>4          </td>\n",
       "        </tr>\n",
       "    </tbody>\n",
       "        <tr>\n",
       "            <td>9   </td> <td>1       </td> <td>3              </td> <td>Johnson, Mrs. Oscar W (Elisabeth Vilhelmina Berg)  </td> <td>female</td> <td>27  </td> <td>0    </td> <td>2    </td> <td>347742          </td> <td>11.1333</td> <td>nan  </td> <td>S   </td> <td>2          </td>\n",
       "        </tr>\n",
       "    </tbody>\n",
       "        <tr>\n",
       "            <td>10  </td> <td>1       </td> <td>2              </td> <td>Nasser, Mrs. Nicholas (Adele Achem)                </td> <td>female</td> <td>14  </td> <td>1    </td> <td>0    </td> <td>237736          </td> <td>30.0708</td> <td>nan  </td> <td>C   </td> <td>1          </td>\n",
       "        </tr>\n",
       "    </tbody>\n",
       "</table>\n",
       "<p>... (881 rows omitted)</p"
      ],
      "text/plain": [
       "id   | survived | passenger_class | name                                                | sex    | age  | SibSp | Parch | ticket           | fare    | cabin | port | family_size\n",
       "1    | 0        | 3               | Braund, Mr. Owen Harris                             | male   | 22   | 1     | 0     | A/5 21171        | 7.25    | nan   | S    | 1\n",
       "2    | 1        | 1               | Cumings, Mrs. John Bradley (Florence Briggs Thayer) | female | 38   | 1     | 0     | PC 17599         | 71.2833 | C85   | C    | 1\n",
       "3    | 1        | 3               | Heikkinen, Miss. Laina                              | female | 26   | 0     | 0     | STON/O2. 3101282 | 7.925   | nan   | S    | 0\n",
       "4    | 1        | 1               | Futrelle, Mrs. Jacques Heath (Lily May Peel)        | female | 35   | 1     | 0     | 113803           | 53.1    | C123  | S    | 1\n",
       "5    | 0        | 3               | Allen, Mr. William Henry                            | male   | 35   | 0     | 0     | 373450           | 8.05    | nan   | S    | 0\n",
       "6    | 0        | 3               | Moran, Mr. James                                    | male   | nan  | 0     | 0     | 330877           | 8.4583  | nan   | Q    | 0\n",
       "7    | 0        | 1               | McCarthy, Mr. Timothy J                             | male   | 54   | 0     | 0     | 17463            | 51.8625 | E46   | S    | 0\n",
       "8    | 0        | 3               | Palsson, Master. Gosta Leonard                      | male   | 2    | 3     | 1     | 349909           | 21.075  | nan   | S    | 4\n",
       "9    | 1        | 3               | Johnson, Mrs. Oscar W (Elisabeth Vilhelmina Berg)   | female | 27   | 0     | 2     | 347742           | 11.1333 | nan   | S    | 2\n",
       "10   | 1        | 2               | Nasser, Mrs. Nicholas (Adele Achem)                 | female | 14   | 1     | 0     | 237736           | 30.0708 | nan   | C    | 1\n",
       "... (881 rows omitted)"
      ]
     },
     "execution_count": 6,
     "metadata": {},
     "output_type": "execute_result"
    }
   ],
   "source": [
    "#I don't really like the columns Parch and SibSp. They are not really that informative and I can't come up with \n",
    "# a short enouh column label for each of them. But it seems that both of them have to do with family size\n",
    "siblings_spouses = train.column(\"SibSp\")\n",
    "children_parents = train.column(\"Parch\")\n",
    "train = train.with_column(\"family_size\", siblings_spouses+children_parents)\n",
    "train"
   ]
  },
  {
   "cell_type": "code",
   "execution_count": 7,
   "metadata": {
    "collapsed": false
   },
   "outputs": [
    {
     "data": {
      "text/html": [
       "<table border=\"1\" class=\"dataframe\">\n",
       "    <thead>\n",
       "        <tr>\n",
       "            <th>id</th> <th>survived</th> <th>passenger_class</th> <th>name</th> <th>sex</th> <th>age</th> <th>ticket</th> <th>fare</th> <th>cabin</th> <th>port</th> <th>family_size</th>\n",
       "        </tr>\n",
       "    </thead>\n",
       "    <tbody>\n",
       "        <tr>\n",
       "            <td>1   </td> <td>0       </td> <td>3              </td> <td>Braund, Mr. Owen Harris                            </td> <td>male  </td> <td>22  </td> <td>A/5 21171       </td> <td>7.25   </td> <td>nan  </td> <td>S   </td> <td>1          </td>\n",
       "        </tr>\n",
       "    </tbody>\n",
       "        <tr>\n",
       "            <td>2   </td> <td>1       </td> <td>1              </td> <td>Cumings, Mrs. John Bradley (Florence Briggs Thayer)</td> <td>female</td> <td>38  </td> <td>PC 17599        </td> <td>71.2833</td> <td>C85  </td> <td>C   </td> <td>1          </td>\n",
       "        </tr>\n",
       "    </tbody>\n",
       "        <tr>\n",
       "            <td>3   </td> <td>1       </td> <td>3              </td> <td>Heikkinen, Miss. Laina                             </td> <td>female</td> <td>26  </td> <td>STON/O2. 3101282</td> <td>7.925  </td> <td>nan  </td> <td>S   </td> <td>0          </td>\n",
       "        </tr>\n",
       "    </tbody>\n",
       "        <tr>\n",
       "            <td>4   </td> <td>1       </td> <td>1              </td> <td>Futrelle, Mrs. Jacques Heath (Lily May Peel)       </td> <td>female</td> <td>35  </td> <td>113803          </td> <td>53.1   </td> <td>C123 </td> <td>S   </td> <td>1          </td>\n",
       "        </tr>\n",
       "    </tbody>\n",
       "        <tr>\n",
       "            <td>5   </td> <td>0       </td> <td>3              </td> <td>Allen, Mr. William Henry                           </td> <td>male  </td> <td>35  </td> <td>373450          </td> <td>8.05   </td> <td>nan  </td> <td>S   </td> <td>0          </td>\n",
       "        </tr>\n",
       "    </tbody>\n",
       "        <tr>\n",
       "            <td>6   </td> <td>0       </td> <td>3              </td> <td>Moran, Mr. James                                   </td> <td>male  </td> <td>nan </td> <td>330877          </td> <td>8.4583 </td> <td>nan  </td> <td>Q   </td> <td>0          </td>\n",
       "        </tr>\n",
       "    </tbody>\n",
       "        <tr>\n",
       "            <td>7   </td> <td>0       </td> <td>1              </td> <td>McCarthy, Mr. Timothy J                            </td> <td>male  </td> <td>54  </td> <td>17463           </td> <td>51.8625</td> <td>E46  </td> <td>S   </td> <td>0          </td>\n",
       "        </tr>\n",
       "    </tbody>\n",
       "        <tr>\n",
       "            <td>8   </td> <td>0       </td> <td>3              </td> <td>Palsson, Master. Gosta Leonard                     </td> <td>male  </td> <td>2   </td> <td>349909          </td> <td>21.075 </td> <td>nan  </td> <td>S   </td> <td>4          </td>\n",
       "        </tr>\n",
       "    </tbody>\n",
       "        <tr>\n",
       "            <td>9   </td> <td>1       </td> <td>3              </td> <td>Johnson, Mrs. Oscar W (Elisabeth Vilhelmina Berg)  </td> <td>female</td> <td>27  </td> <td>347742          </td> <td>11.1333</td> <td>nan  </td> <td>S   </td> <td>2          </td>\n",
       "        </tr>\n",
       "    </tbody>\n",
       "        <tr>\n",
       "            <td>10  </td> <td>1       </td> <td>2              </td> <td>Nasser, Mrs. Nicholas (Adele Achem)                </td> <td>female</td> <td>14  </td> <td>237736          </td> <td>30.0708</td> <td>nan  </td> <td>C   </td> <td>1          </td>\n",
       "        </tr>\n",
       "    </tbody>\n",
       "</table>\n",
       "<p>... (881 rows omitted)</p"
      ],
      "text/plain": [
       "id   | survived | passenger_class | name                                                | sex    | age  | ticket           | fare    | cabin | port | family_size\n",
       "1    | 0        | 3               | Braund, Mr. Owen Harris                             | male   | 22   | A/5 21171        | 7.25    | nan   | S    | 1\n",
       "2    | 1        | 1               | Cumings, Mrs. John Bradley (Florence Briggs Thayer) | female | 38   | PC 17599         | 71.2833 | C85   | C    | 1\n",
       "3    | 1        | 3               | Heikkinen, Miss. Laina                              | female | 26   | STON/O2. 3101282 | 7.925   | nan   | S    | 0\n",
       "4    | 1        | 1               | Futrelle, Mrs. Jacques Heath (Lily May Peel)        | female | 35   | 113803           | 53.1    | C123  | S    | 1\n",
       "5    | 0        | 3               | Allen, Mr. William Henry                            | male   | 35   | 373450           | 8.05    | nan   | S    | 0\n",
       "6    | 0        | 3               | Moran, Mr. James                                    | male   | nan  | 330877           | 8.4583  | nan   | Q    | 0\n",
       "7    | 0        | 1               | McCarthy, Mr. Timothy J                             | male   | 54   | 17463            | 51.8625 | E46   | S    | 0\n",
       "8    | 0        | 3               | Palsson, Master. Gosta Leonard                      | male   | 2    | 349909           | 21.075  | nan   | S    | 4\n",
       "9    | 1        | 3               | Johnson, Mrs. Oscar W (Elisabeth Vilhelmina Berg)   | female | 27   | 347742           | 11.1333 | nan   | S    | 2\n",
       "10   | 1        | 2               | Nasser, Mrs. Nicholas (Adele Achem)                 | female | 14   | 237736           | 30.0708 | nan   | C    | 1\n",
       "... (881 rows omitted)"
      ]
     },
     "execution_count": 7,
     "metadata": {},
     "output_type": "execute_result"
    }
   ],
   "source": [
    "#but now I don't really need the SibSp and Parch columns any more so I can drop them from the table\n",
    "train = train.drop([\"Parch\", \"SibSp\"])\n",
    "train"
   ]
  },
  {
   "cell_type": "code",
   "execution_count": 8,
   "metadata": {
    "collapsed": false
   },
   "outputs": [
    {
     "data": {
      "text/html": [
       "<table border=\"1\" class=\"dataframe\">\n",
       "    <thead>\n",
       "        <tr>\n",
       "            <th>sex</th> <th>id array</th> <th>survived array</th> <th>passenger_class array</th> <th>name array</th> <th>age array</th> <th>ticket array</th> <th>fare array</th> <th>cabin array</th> <th>port array</th> <th>family_size array</th>\n",
       "        </tr>\n",
       "    </thead>\n",
       "    <tbody>\n",
       "        <tr>\n",
       "            <td>female</td> <td>[  2   3   4   9  10  11  12  15  16  19  20  23  25  26 ...</td> <td>[1 1 1 1 1 1 1 0 1 0 1 1 0 1 1 1 1 0 1 0 0 1 1 1 0 1 1 1 ...</td> <td>[1 3 1 3 2 3 1 3 2 3 3 3 3 3 3 1 3 3 3 3 2 2 3 3 3 1 2 2 ...</td> <td>['Cumings, Mrs. John Bradley (Florence Briggs Thayer)'\n",
       "  ...</td> <td>[ 38.    26.    35.    27.    14.     4.    58.    14.   ...</td> <td>['PC 17599' 'STON/O2. 3101282' '113803' '347742' '237736 ...</td> <td>[  71.2833    7.925    53.1      11.1333   30.0708   16. ...</td> <td>['C85' 'nan' 'C123' 'nan' 'nan' 'G6' 'C103' 'nan' 'nan'  ...</td> <td>['C' 'S' 'S' 'S' 'C' 'S' 'S' 'S' 'S' 'S' 'C' 'Q' 'S' 'S' ...</td> <td>[ 1  0  1  2  1  2  0  0  0  1  0  0  4  6  0  1  0  2   ...</td>\n",
       "        </tr>\n",
       "    </tbody>\n",
       "        <tr>\n",
       "            <td>male  </td> <td>[  1   5   6   7   8  13  14  17  18  21  22  24  27  28 ...</td> <td>[0 0 0 0 0 0 0 0 1 0 1 1 0 0 0 0 0 0 0 1 0 0 0 0 0 0 0 0 ...</td> <td>[3 3 3 1 3 3 3 3 2 2 2 1 3 1 3 1 2 1 1 3 3 3 3 3 3 3 3 1 ...</td> <td>['Braund, Mr. Owen Harris' 'Allen, Mr. William Henry' 'M ...</td> <td>[ 22.    35.      nan  54.     2.    20.    39.     2.   ...</td> <td>['A/5 21171' '373450' '330877' '17463' '349909' 'A/5. 21 ...</td> <td>[   7.25      8.05      8.4583   51.8625   21.075     8. ...</td> <td>['nan' 'nan' 'nan' 'E46' 'nan' 'nan' 'nan' 'nan' 'nan' ' ...</td> <td>['S' 'S' 'Q' 'S' 'S' 'S' 'S' 'Q' 'S' 'S' 'S' 'S' 'C' 'S' ...</td> <td>[ 1  0  0  0  4  0  6  5  0  0  0  0  0  5  0  0  0  1   ...</td>\n",
       "        </tr>\n",
       "    </tbody>\n",
       "</table>"
      ],
      "text/plain": [
       "sex    | id array                                                     | survived array                                               | passenger_class array                                        | name array                                                   | age array                                                    | ticket array                                                 | fare array                                                   | cabin array                                                  | port array                                                   | family_size array\n",
       "female | [  2   3   4   9  10  11  12  15  16  19  20  23  25  26 ... | [1 1 1 1 1 1 1 0 1 0 1 1 0 1 1 1 1 0 1 0 0 1 1 1 0 1 1 1 ... | [1 3 1 3 2 3 1 3 2 3 3 3 3 3 3 1 3 3 3 3 2 2 3 3 3 1 2 2 ... | ['Cumings, Mrs. John Bradley (Florence Briggs Thayer)'\n",
       "  ... | [ 38.    26.    35.    27.    14.     4.    58.    14.   ... | ['PC 17599' 'STON/O2. 3101282' '113803' '347742' '237736 ... | [  71.2833    7.925    53.1      11.1333   30.0708   16. ... | ['C85' 'nan' 'C123' 'nan' 'nan' 'G6' 'C103' 'nan' 'nan'  ... | ['C' 'S' 'S' 'S' 'C' 'S' 'S' 'S' 'S' 'S' 'C' 'Q' 'S' 'S' ... | [ 1  0  1  2  1  2  0  0  0  1  0  0  4  6  0  1  0  2   ...\n",
       "male   | [  1   5   6   7   8  13  14  17  18  21  22  24  27  28 ... | [0 0 0 0 0 0 0 0 1 0 1 1 0 0 0 0 0 0 0 1 0 0 0 0 0 0 0 0 ... | [3 3 3 1 3 3 3 3 2 2 2 1 3 1 3 1 2 1 1 3 3 3 3 3 3 3 3 1 ... | ['Braund, Mr. Owen Harris' 'Allen, Mr. William Henry' 'M ... | [ 22.    35.      nan  54.     2.    20.    39.     2.   ... | ['A/5 21171' '373450' '330877' '17463' '349909' 'A/5. 21 ... | [   7.25      8.05      8.4583   51.8625   21.075     8. ... | ['nan' 'nan' 'nan' 'E46' 'nan' 'nan' 'nan' 'nan' 'nan' ' ... | ['S' 'S' 'Q' 'S' 'S' 'S' 'S' 'Q' 'S' 'S' 'S' 'S' 'C' 'S' ... | [ 1  0  0  0  4  0  6  5  0  0  0  0  0  5  0  0  0  1   ..."
      ]
     },
     "execution_count": 8,
     "metadata": {},
     "output_type": "execute_result"
    }
   ],
   "source": [
    "# How the group function works\n",
    "train.group(\"sex\", np.array) #instead of np.array pass in any aggregation function you want (default returns count)"
   ]
  },
  {
   "cell_type": "code",
   "execution_count": 9,
   "metadata": {
    "collapsed": false
   },
   "outputs": [
    {
     "data": {
      "text/html": [
       "<table border=\"1\" class=\"dataframe\">\n",
       "    <thead>\n",
       "        <tr>\n",
       "            <th>survived</th> <th>passenger_class</th>\n",
       "        </tr>\n",
       "    </thead>\n",
       "    <tbody>\n",
       "        <tr>\n",
       "            <td>0       </td> <td>3              </td>\n",
       "        </tr>\n",
       "    </tbody>\n",
       "        <tr>\n",
       "            <td>1       </td> <td>1              </td>\n",
       "        </tr>\n",
       "    </tbody>\n",
       "        <tr>\n",
       "            <td>1       </td> <td>3              </td>\n",
       "        </tr>\n",
       "    </tbody>\n",
       "        <tr>\n",
       "            <td>1       </td> <td>1              </td>\n",
       "        </tr>\n",
       "    </tbody>\n",
       "        <tr>\n",
       "            <td>0       </td> <td>3              </td>\n",
       "        </tr>\n",
       "    </tbody>\n",
       "        <tr>\n",
       "            <td>0       </td> <td>3              </td>\n",
       "        </tr>\n",
       "    </tbody>\n",
       "        <tr>\n",
       "            <td>0       </td> <td>1              </td>\n",
       "        </tr>\n",
       "    </tbody>\n",
       "        <tr>\n",
       "            <td>0       </td> <td>3              </td>\n",
       "        </tr>\n",
       "    </tbody>\n",
       "        <tr>\n",
       "            <td>1       </td> <td>3              </td>\n",
       "        </tr>\n",
       "    </tbody>\n",
       "        <tr>\n",
       "            <td>1       </td> <td>2              </td>\n",
       "        </tr>\n",
       "    </tbody>\n",
       "</table>\n",
       "<p>... (881 rows omitted)</p"
      ],
      "text/plain": [
       "survived | passenger_class\n",
       "0        | 3\n",
       "1        | 1\n",
       "1        | 3\n",
       "1        | 1\n",
       "0        | 3\n",
       "0        | 3\n",
       "0        | 1\n",
       "0        | 3\n",
       "1        | 3\n",
       "1        | 2\n",
       "... (881 rows omitted)"
      ]
     },
     "execution_count": 9,
     "metadata": {},
     "output_type": "execute_result"
    }
   ],
   "source": [
    "# Say I want to examine the relationship between survival and passenger class\n",
    "pclass = train.select([\"survived\", \"passenger_class\"]) #select only some columns from the table\n",
    "pclass"
   ]
  },
  {
   "cell_type": "code",
   "execution_count": 10,
   "metadata": {
    "collapsed": false
   },
   "outputs": [
    {
     "data": {
      "text/html": [
       "<table border=\"1\" class=\"dataframe\">\n",
       "    <thead>\n",
       "        <tr>\n",
       "            <th>passenger_class</th> <th>survived mean</th>\n",
       "        </tr>\n",
       "    </thead>\n",
       "    <tbody>\n",
       "        <tr>\n",
       "            <td>1              </td> <td>0.62963      </td>\n",
       "        </tr>\n",
       "    </tbody>\n",
       "        <tr>\n",
       "            <td>2              </td> <td>0.472826     </td>\n",
       "        </tr>\n",
       "    </tbody>\n",
       "        <tr>\n",
       "            <td>3              </td> <td>0.242363     </td>\n",
       "        </tr>\n",
       "    </tbody>\n",
       "</table>"
      ],
      "text/plain": [
       "passenger_class | survived mean\n",
       "1               | 0.62963\n",
       "2               | 0.472826\n",
       "3               | 0.242363"
      ]
     },
     "execution_count": 10,
     "metadata": {},
     "output_type": "execute_result"
    }
   ],
   "source": [
    "pclass.group(\"passenger_class\", np.mean) #hmmm interesting"
   ]
  },
  {
   "cell_type": "code",
   "execution_count": 11,
   "metadata": {
    "collapsed": false
   },
   "outputs": [
    {
     "data": {
      "text/html": [
       "<table border=\"1\" class=\"dataframe\">\n",
       "    <thead>\n",
       "        <tr>\n",
       "            <th>survived</th> <th>passenger_class</th>\n",
       "        </tr>\n",
       "    </thead>\n",
       "    <tbody>\n",
       "        <tr>\n",
       "            <td>1       </td> <td>1              </td>\n",
       "        </tr>\n",
       "    </tbody>\n",
       "        <tr>\n",
       "            <td>1       </td> <td>1              </td>\n",
       "        </tr>\n",
       "    </tbody>\n",
       "        <tr>\n",
       "            <td>0       </td> <td>1              </td>\n",
       "        </tr>\n",
       "    </tbody>\n",
       "        <tr>\n",
       "            <td>1       </td> <td>1              </td>\n",
       "        </tr>\n",
       "    </tbody>\n",
       "        <tr>\n",
       "            <td>1       </td> <td>1              </td>\n",
       "        </tr>\n",
       "    </tbody>\n",
       "        <tr>\n",
       "            <td>0       </td> <td>1              </td>\n",
       "        </tr>\n",
       "    </tbody>\n",
       "        <tr>\n",
       "            <td>0       </td> <td>1              </td>\n",
       "        </tr>\n",
       "    </tbody>\n",
       "        <tr>\n",
       "            <td>1       </td> <td>1              </td>\n",
       "        </tr>\n",
       "    </tbody>\n",
       "        <tr>\n",
       "            <td>0       </td> <td>1              </td>\n",
       "        </tr>\n",
       "    </tbody>\n",
       "        <tr>\n",
       "            <td>0       </td> <td>1              </td>\n",
       "        </tr>\n",
       "    </tbody>\n",
       "</table>\n",
       "<p>... (206 rows omitted)</p"
      ],
      "text/plain": [
       "survived | passenger_class\n",
       "1        | 1\n",
       "1        | 1\n",
       "0        | 1\n",
       "1        | 1\n",
       "1        | 1\n",
       "0        | 1\n",
       "0        | 1\n",
       "1        | 1\n",
       "0        | 1\n",
       "0        | 1\n",
       "... (206 rows omitted)"
      ]
     },
     "execution_count": 11,
     "metadata": {},
     "output_type": "execute_result"
    }
   ],
   "source": [
    "#Make sure that the above code did what I wanted it to do\n",
    "first_class = pclass.where(\"passenger_class\", 1)\n",
    "second_class = pclass.where(\"passenger_class\", 2)\n",
    "third_class = pclass.where(\"passenger_class\", 3)\n",
    "first_class"
   ]
  },
  {
   "cell_type": "code",
   "execution_count": 12,
   "metadata": {
    "collapsed": false
   },
   "outputs": [
    {
     "data": {
      "text/plain": [
       "0.6296296296296297"
      ]
     },
     "execution_count": 12,
     "metadata": {},
     "output_type": "execute_result"
    }
   ],
   "source": [
    "np.count_nonzero(first_class.column('survived')==1)/len(first_class.column('survived')) #manually find mean survival"
   ]
  },
  {
   "cell_type": "code",
   "execution_count": 13,
   "metadata": {
    "collapsed": false
   },
   "outputs": [
    {
     "data": {
      "text/html": [
       "<table border=\"1\" class=\"dataframe\">\n",
       "    <thead>\n",
       "        <tr>\n",
       "            <th>id</th> <th>survived</th> <th>passenger_class</th> <th>name</th> <th>sex</th> <th>age</th> <th>ticket</th> <th>fare</th> <th>cabin</th> <th>port</th> <th>family_size</th>\n",
       "        </tr>\n",
       "    </thead>\n",
       "    <tbody>\n",
       "        <tr>\n",
       "            <td>804 </td> <td>1       </td> <td>3              </td> <td>Thomas, Master. Assad Alexander</td> <td>male  </td> <td>0.42</td> <td>2625   </td> <td>8.5167 </td> <td>nan    </td> <td>C   </td> <td>1          </td>\n",
       "        </tr>\n",
       "    </tbody>\n",
       "        <tr>\n",
       "            <td>756 </td> <td>1       </td> <td>2              </td> <td>Hamalainen, Master. Viljo      </td> <td>male  </td> <td>0.67</td> <td>250649 </td> <td>14.5   </td> <td>nan    </td> <td>S   </td> <td>2          </td>\n",
       "        </tr>\n",
       "    </tbody>\n",
       "        <tr>\n",
       "            <td>470 </td> <td>1       </td> <td>3              </td> <td>Baclini, Miss. Helene Barbara  </td> <td>female</td> <td>0.75</td> <td>2666   </td> <td>19.2583</td> <td>nan    </td> <td>C   </td> <td>3          </td>\n",
       "        </tr>\n",
       "    </tbody>\n",
       "        <tr>\n",
       "            <td>645 </td> <td>1       </td> <td>3              </td> <td>Baclini, Miss. Eugenie         </td> <td>female</td> <td>0.75</td> <td>2666   </td> <td>19.2583</td> <td>nan    </td> <td>C   </td> <td>3          </td>\n",
       "        </tr>\n",
       "    </tbody>\n",
       "        <tr>\n",
       "            <td>79  </td> <td>1       </td> <td>2              </td> <td>Caldwell, Master. Alden Gates  </td> <td>male  </td> <td>0.83</td> <td>248738 </td> <td>29     </td> <td>nan    </td> <td>S   </td> <td>2          </td>\n",
       "        </tr>\n",
       "    </tbody>\n",
       "        <tr>\n",
       "            <td>832 </td> <td>1       </td> <td>2              </td> <td>Richards, Master. George Sibley</td> <td>male  </td> <td>0.83</td> <td>29106  </td> <td>18.75  </td> <td>nan    </td> <td>S   </td> <td>2          </td>\n",
       "        </tr>\n",
       "    </tbody>\n",
       "        <tr>\n",
       "            <td>306 </td> <td>1       </td> <td>1              </td> <td>Allison, Master. Hudson Trevor </td> <td>male  </td> <td>0.92</td> <td>113781 </td> <td>151.55 </td> <td>C22 C26</td> <td>S   </td> <td>3          </td>\n",
       "        </tr>\n",
       "    </tbody>\n",
       "        <tr>\n",
       "            <td>165 </td> <td>0       </td> <td>3              </td> <td>Panula, Master. Eino Viljami   </td> <td>male  </td> <td>1   </td> <td>3101295</td> <td>39.6875</td> <td>nan    </td> <td>S   </td> <td>5          </td>\n",
       "        </tr>\n",
       "    </tbody>\n",
       "        <tr>\n",
       "            <td>173 </td> <td>1       </td> <td>3              </td> <td>Johnson, Miss. Eleanor Ileen   </td> <td>female</td> <td>1   </td> <td>347742 </td> <td>11.1333</td> <td>nan    </td> <td>S   </td> <td>2          </td>\n",
       "        </tr>\n",
       "    </tbody>\n",
       "        <tr>\n",
       "            <td>184 </td> <td>1       </td> <td>2              </td> <td>Becker, Master. Richard F      </td> <td>male  </td> <td>1   </td> <td>230136 </td> <td>39     </td> <td>F4     </td> <td>S   </td> <td>3          </td>\n",
       "        </tr>\n",
       "    </tbody>\n",
       "</table>\n",
       "<p>... (881 rows omitted)</p"
      ],
      "text/plain": [
       "id   | survived | passenger_class | name                            | sex    | age  | ticket  | fare    | cabin   | port | family_size\n",
       "804  | 1        | 3               | Thomas, Master. Assad Alexander | male   | 0.42 | 2625    | 8.5167  | nan     | C    | 1\n",
       "756  | 1        | 2               | Hamalainen, Master. Viljo       | male   | 0.67 | 250649  | 14.5    | nan     | S    | 2\n",
       "470  | 1        | 3               | Baclini, Miss. Helene Barbara   | female | 0.75 | 2666    | 19.2583 | nan     | C    | 3\n",
       "645  | 1        | 3               | Baclini, Miss. Eugenie          | female | 0.75 | 2666    | 19.2583 | nan     | C    | 3\n",
       "79   | 1        | 2               | Caldwell, Master. Alden Gates   | male   | 0.83 | 248738  | 29      | nan     | S    | 2\n",
       "832  | 1        | 2               | Richards, Master. George Sibley | male   | 0.83 | 29106   | 18.75   | nan     | S    | 2\n",
       "306  | 1        | 1               | Allison, Master. Hudson Trevor  | male   | 0.92 | 113781  | 151.55  | C22 C26 | S    | 3\n",
       "165  | 0        | 3               | Panula, Master. Eino Viljami    | male   | 1    | 3101295 | 39.6875 | nan     | S    | 5\n",
       "173  | 1        | 3               | Johnson, Miss. Eleanor Ileen    | female | 1    | 347742  | 11.1333 | nan     | S    | 2\n",
       "184  | 1        | 2               | Becker, Master. Richard F       | male   | 1    | 230136  | 39      | F4      | S    | 3\n",
       "... (881 rows omitted)"
      ]
     },
     "execution_count": 13,
     "metadata": {},
     "output_type": "execute_result"
    }
   ],
   "source": [
    "train.sort(\"age\") #sorting by a column. Anything interesting you can observe?"
   ]
  },
  {
   "cell_type": "code",
   "execution_count": 14,
   "metadata": {
    "collapsed": false
   },
   "outputs": [
    {
     "data": {
      "text/html": [
       "<table border=\"1\" class=\"dataframe\">\n",
       "    <thead>\n",
       "        <tr>\n",
       "            <th>id</th> <th>survived</th> <th>passenger_class</th> <th>name</th> <th>sex</th> <th>age</th> <th>ticket</th> <th>fare</th> <th>cabin</th> <th>port</th> <th>family_size</th>\n",
       "        </tr>\n",
       "    </thead>\n",
       "    <tbody>\n",
       "        <tr>\n",
       "            <td>1   </td> <td>0       </td> <td>3              </td> <td>Braund, Mr. Owen Harris       </td> <td>male</td> <td>22  </td> <td>A/5 21171</td> <td>7.25   </td> <td>nan  </td> <td>S   </td> <td>1          </td>\n",
       "        </tr>\n",
       "    </tbody>\n",
       "        <tr>\n",
       "            <td>5   </td> <td>0       </td> <td>3              </td> <td>Allen, Mr. William Henry      </td> <td>male</td> <td>35  </td> <td>373450   </td> <td>8.05   </td> <td>nan  </td> <td>S   </td> <td>0          </td>\n",
       "        </tr>\n",
       "    </tbody>\n",
       "        <tr>\n",
       "            <td>6   </td> <td>0       </td> <td>3              </td> <td>Moran, Mr. James              </td> <td>male</td> <td>nan </td> <td>330877   </td> <td>8.4583 </td> <td>nan  </td> <td>Q   </td> <td>0          </td>\n",
       "        </tr>\n",
       "    </tbody>\n",
       "        <tr>\n",
       "            <td>7   </td> <td>0       </td> <td>1              </td> <td>McCarthy, Mr. Timothy J       </td> <td>male</td> <td>54  </td> <td>17463    </td> <td>51.8625</td> <td>E46  </td> <td>S   </td> <td>0          </td>\n",
       "        </tr>\n",
       "    </tbody>\n",
       "        <tr>\n",
       "            <td>8   </td> <td>0       </td> <td>3              </td> <td>Palsson, Master. Gosta Leonard</td> <td>male</td> <td>2   </td> <td>349909   </td> <td>21.075 </td> <td>nan  </td> <td>S   </td> <td>4          </td>\n",
       "        </tr>\n",
       "    </tbody>\n",
       "        <tr>\n",
       "            <td>13  </td> <td>0       </td> <td>3              </td> <td>Saundercock, Mr. William Henry</td> <td>male</td> <td>20  </td> <td>A/5. 2151</td> <td>8.05   </td> <td>nan  </td> <td>S   </td> <td>0          </td>\n",
       "        </tr>\n",
       "    </tbody>\n",
       "        <tr>\n",
       "            <td>14  </td> <td>0       </td> <td>3              </td> <td>Andersson, Mr. Anders Johan   </td> <td>male</td> <td>39  </td> <td>347082   </td> <td>31.275 </td> <td>nan  </td> <td>S   </td> <td>6          </td>\n",
       "        </tr>\n",
       "    </tbody>\n",
       "        <tr>\n",
       "            <td>17  </td> <td>0       </td> <td>3              </td> <td>Rice, Master. Eugene          </td> <td>male</td> <td>2   </td> <td>382652   </td> <td>29.125 </td> <td>nan  </td> <td>Q   </td> <td>5          </td>\n",
       "        </tr>\n",
       "    </tbody>\n",
       "        <tr>\n",
       "            <td>18  </td> <td>1       </td> <td>2              </td> <td>Williams, Mr. Charles Eugene  </td> <td>male</td> <td>nan </td> <td>244373   </td> <td>13     </td> <td>nan  </td> <td>S   </td> <td>0          </td>\n",
       "        </tr>\n",
       "    </tbody>\n",
       "        <tr>\n",
       "            <td>21  </td> <td>0       </td> <td>2              </td> <td>Fynney, Mr. Joseph J          </td> <td>male</td> <td>35  </td> <td>239865   </td> <td>26     </td> <td>nan  </td> <td>S   </td> <td>0          </td>\n",
       "        </tr>\n",
       "    </tbody>\n",
       "</table>\n",
       "<p>... (567 rows omitted)</p"
      ],
      "text/plain": [
       "id   | survived | passenger_class | name                           | sex  | age  | ticket    | fare    | cabin | port | family_size\n",
       "1    | 0        | 3               | Braund, Mr. Owen Harris        | male | 22   | A/5 21171 | 7.25    | nan   | S    | 1\n",
       "5    | 0        | 3               | Allen, Mr. William Henry       | male | 35   | 373450    | 8.05    | nan   | S    | 0\n",
       "6    | 0        | 3               | Moran, Mr. James               | male | nan  | 330877    | 8.4583  | nan   | Q    | 0\n",
       "7    | 0        | 1               | McCarthy, Mr. Timothy J        | male | 54   | 17463     | 51.8625 | E46   | S    | 0\n",
       "8    | 0        | 3               | Palsson, Master. Gosta Leonard | male | 2    | 349909    | 21.075  | nan   | S    | 4\n",
       "13   | 0        | 3               | Saundercock, Mr. William Henry | male | 20   | A/5. 2151 | 8.05    | nan   | S    | 0\n",
       "14   | 0        | 3               | Andersson, Mr. Anders Johan    | male | 39   | 347082    | 31.275  | nan   | S    | 6\n",
       "17   | 0        | 3               | Rice, Master. Eugene           | male | 2    | 382652    | 29.125  | nan   | Q    | 5\n",
       "18   | 1        | 2               | Williams, Mr. Charles Eugene   | male | nan  | 244373    | 13      | nan   | S    | 0\n",
       "21   | 0        | 2               | Fynney, Mr. Joseph J           | male | 35   | 239865    | 26      | nan   | S    | 0\n",
       "... (567 rows omitted)"
      ]
     },
     "execution_count": 14,
     "metadata": {},
     "output_type": "execute_result"
    }
   ],
   "source": [
    "# comparing men and women\n",
    "men = train.where('sex', \"male\")\n",
    "women = train.where('sex', \"female\")\n",
    "men"
   ]
  },
  {
   "cell_type": "code",
   "execution_count": 15,
   "metadata": {
    "collapsed": false
   },
   "outputs": [
    {
     "data": {
      "text/html": [
       "<table border=\"1\" class=\"dataframe\">\n",
       "    <thead>\n",
       "        <tr>\n",
       "            <th>passenger_class</th> <th>sex</th> <th>survived mean</th>\n",
       "        </tr>\n",
       "    </thead>\n",
       "    <tbody>\n",
       "        <tr>\n",
       "            <td>1              </td> <td>female</td> <td>0.968085     </td>\n",
       "        </tr>\n",
       "    </tbody>\n",
       "        <tr>\n",
       "            <td>1              </td> <td>male  </td> <td>0.368852     </td>\n",
       "        </tr>\n",
       "    </tbody>\n",
       "        <tr>\n",
       "            <td>2              </td> <td>female</td> <td>0.921053     </td>\n",
       "        </tr>\n",
       "    </tbody>\n",
       "        <tr>\n",
       "            <td>2              </td> <td>male  </td> <td>0.157407     </td>\n",
       "        </tr>\n",
       "    </tbody>\n",
       "        <tr>\n",
       "            <td>3              </td> <td>female</td> <td>0.5          </td>\n",
       "        </tr>\n",
       "    </tbody>\n",
       "        <tr>\n",
       "            <td>3              </td> <td>male  </td> <td>0.135447     </td>\n",
       "        </tr>\n",
       "    </tbody>\n",
       "</table>"
      ],
      "text/plain": [
       "passenger_class | sex    | survived mean\n",
       "1               | female | 0.968085\n",
       "1               | male   | 0.368852\n",
       "2               | female | 0.921053\n",
       "2               | male   | 0.157407\n",
       "3               | female | 0.5\n",
       "3               | male   | 0.135447"
      ]
     },
     "execution_count": 15,
     "metadata": {},
     "output_type": "execute_result"
    }
   ],
   "source": [
    "#group by two variables? WHAAAAT?\n",
    "train.groups(make_array(\"passenger_class\", \"sex\"), np.mean).select(make_array(\"passenger_class\", \"sex\", \"survived mean\"))"
   ]
  },
  {
   "cell_type": "code",
   "execution_count": 16,
   "metadata": {
    "collapsed": false
   },
   "outputs": [
    {
     "data": {
      "text/html": [
       "<table border=\"1\" class=\"dataframe\">\n",
       "    <thead>\n",
       "        <tr>\n",
       "            <th>sex</th> <th>C</th> <th>Q</th> <th>S</th> <th>nan</th>\n",
       "        </tr>\n",
       "    </thead>\n",
       "    <tbody>\n",
       "        <tr>\n",
       "            <td>female</td> <td>0.876712</td> <td>0.75     </td> <td>0.689655</td> <td>1   </td>\n",
       "        </tr>\n",
       "    </tbody>\n",
       "        <tr>\n",
       "            <td>male  </td> <td>0.305263</td> <td>0.0731707</td> <td>0.174603</td> <td>0   </td>\n",
       "        </tr>\n",
       "    </tbody>\n",
       "</table>"
      ],
      "text/plain": [
       "sex    | C        | Q         | S        | nan\n",
       "female | 0.876712 | 0.75      | 0.689655 | 1\n",
       "male   | 0.305263 | 0.0731707 | 0.174603 | 0"
      ]
     },
     "execution_count": 16,
     "metadata": {},
     "output_type": "execute_result"
    }
   ],
   "source": [
    "#more advanced tabling - pivpot method\n",
    "train.pivot('port', 'sex','survived', np.mean)"
   ]
  }
 ],
 "metadata": {
  "anaconda-cloud": {},
  "kernelspec": {
   "display_name": "Python [conda root]",
   "language": "python",
   "name": "conda-root-py"
  },
  "language_info": {
   "codemirror_mode": {
    "name": "ipython",
    "version": 3
   },
   "file_extension": ".py",
   "mimetype": "text/x-python",
   "name": "python",
   "nbconvert_exporter": "python",
   "pygments_lexer": "ipython3",
   "version": "3.5.2"
  }
 },
 "nbformat": 4,
 "nbformat_minor": 1
}
