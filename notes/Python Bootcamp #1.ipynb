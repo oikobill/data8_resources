{
 "cells": [
  {
   "cell_type": "markdown",
   "metadata": {},
   "source": [
    "## Tips and tricks for using Jupyter Notebook"
   ]
  },
  {
   "cell_type": "markdown",
   "metadata": {},
   "source": [
    "1. To run a cell, press `<Shift>+<Return>` This will save you a lot of time. This takes you directy to the next cell. If you want to run the next cell just press `<Shift>+<Return>` again. If you want to edit the cell just press `<Enter>` \n",
    "2. Whenever you enter a new session. Don't forget to run all the cells above the cell you want to edit. If you don't do show, you will get a lot of error messages saying that some variable you are trying to use has not been defined. To run all cells above go to Cell>>Run all below\n",
    "3. When you run a cell, two things happen.\n",
    "    \n",
    "        i) Your kernel will be busy (circle on the top right will become black). For as long as the circle is black there is no reason to rerun the cell or run other cells so just be patient.\n",
    "        ii) If your kernel keeps dying that probably means that either you internet connection is failing or you are asking python to perform an unreasonably large amount of computation. In this case review your work carefully.\n",
    "4. If your Kernel dies, then go to Kernel>>Restart and then run all the cells above the cell you are at.\n",
    "5. It is good practice to always save your work as you are going over an assignment. Just do `<Command> + S` to save or go to File>>Save and Checkpoint\n",
    "6. If you want to comment out a particular line/lines of your code simply select the line and press `<Command>+<?>`\n",
    "For more common mistakes and gitcha's take a look at Niraj's <a href=\"https://drive.google.com/a/berkeley.edu/file/d/0B7D7GRdrAwBDQ2J3cGFZYzdjTTQ/view?usp=sharing\">guide</a>"
   ]
  },
  {
   "cell_type": "markdown",
   "metadata": {},
   "source": [
    "Programming in Python\n",
    "=========\n",
    "\n",
    "**Note:** This chapter is very important, especially if you have no previous coding experience. I would suggest trying to familiarize yourself as soon as possible with writing code since this will make your life a lot easier when it comes to homeworks and labs (and even exams). I will include some practice exercises in the end of the notebook for you to practice on your own time.\n",
    "\n",
    "**Note 2:** I will try to take a different stance in talking about python compared to the textbook since just repeating the textbook material won't be of too much help."
   ]
  },
  {
   "cell_type": "markdown",
   "metadata": {},
   "source": [
    "<h2> Table of Contents </h2>\n",
    "\n",
    "* **<a href=\"#basics\">Python Basics</a>**\n",
    "    * <a href=\"#calc\">Simple Calculator</a>\n",
    "    * <a href=\"#bnum\">Beyond numbers</a>\n",
    "    * <a href=\"#data\">Basic Data types</a>\n",
    "    * <a href=\"#basic_exe\">Python Basics Exercises</a>\n",
    "* **<a href=\"#advanced\">Advanced Programming</a>** \n",
    "    * <a href=\"#pacs\">Packages and built-in functions</a>\n",
    "    * <a href=\"#arrays\">Arrays</a>\n",
    "    * <a href=\"#ranges\">Ranges</a>\n",
    "    * <a href=\"#advanced_exe\">Advanced Programming Exercises</a>"
   ]
  },
  {
   "cell_type": "markdown",
   "metadata": {},
   "source": [
    "<a id=\"section\"></a>\n",
    "<h2> Python Basics </h2>"
   ]
  },
  {
   "cell_type": "markdown",
   "metadata": {},
   "source": [
    "**Python comments**\n",
    "\n",
    "These are parts of your code that the compiler ignores and which you can add to explain what you are doing\n",
    "\n",
    "For example:"
   ]
  },
  {
   "cell_type": "code",
   "execution_count": null,
   "metadata": {
    "collapsed": true
   },
   "outputs": [],
   "source": [
    "# This is a one line comment"
   ]
  },
  {
   "cell_type": "markdown",
   "metadata": {},
   "source": [
    "<a id=\"calc\"></a>\n",
    "**Simple calculator**"
   ]
  },
  {
   "cell_type": "code",
   "execution_count": null,
   "metadata": {
    "collapsed": false
   },
   "outputs": [],
   "source": [
    "#In its simplest form, you can think of Python as a fancy calculator\n",
    "#Much like any calculator, you can type in an expression in a cell and press shift+Enter to run the cell\n",
    "#e.g.\n",
    "1+2"
   ]
  },
  {
   "cell_type": "code",
   "execution_count": null,
   "metadata": {
    "collapsed": false
   },
   "outputs": [],
   "source": [
    "#Note: the notebook displays the value of the last expression in the cell\n",
    "1+2 #You can't see me\n",
    "2+2 #I am the last expression so you can see me"
   ]
  },
  {
   "cell_type": "code",
   "execution_count": null,
   "metadata": {
    "collapsed": false
   },
   "outputs": [],
   "source": [
    "# Operations in Python\n",
    "# Addition\n",
    "1+2 "
   ]
  },
  {
   "cell_type": "code",
   "execution_count": null,
   "metadata": {
    "collapsed": false
   },
   "outputs": [],
   "source": [
    "# Subtraction\n",
    "2-1"
   ]
  },
  {
   "cell_type": "code",
   "execution_count": null,
   "metadata": {
    "collapsed": false
   },
   "outputs": [],
   "source": [
    "# Multiplication\n",
    "2*3"
   ]
  },
  {
   "cell_type": "code",
   "execution_count": null,
   "metadata": {
    "collapsed": false
   },
   "outputs": [],
   "source": [
    "# Division\n",
    "1/2"
   ]
  },
  {
   "cell_type": "code",
   "execution_count": null,
   "metadata": {
    "collapsed": false
   },
   "outputs": [],
   "source": [
    "# Exponentiation\n",
    "2**3 # base**exponent, 2 raised to the 3rd power"
   ]
  },
  {
   "cell_type": "code",
   "execution_count": null,
   "metadata": {
    "collapsed": false
   },
   "outputs": [],
   "source": [
    "# Remainder\n",
    "5%2 # Use the % sign to express the remainder of the euclidean division between 5 and 2"
   ]
  },
  {
   "cell_type": "code",
   "execution_count": null,
   "metadata": {
    "collapsed": false
   },
   "outputs": [],
   "source": [
    "# Order of operations: These are some rules that dictate which operation happens first\n",
    "# This is no different than what you learned in highschool algebra\n",
    "1 + 2**2 / 2 * 5 # First, exponentiation takes place, then division and multiplication and finally addition and subtraction"
   ]
  },
  {
   "cell_type": "code",
   "execution_count": null,
   "metadata": {
    "collapsed": false
   },
   "outputs": [],
   "source": [
    "# If we want to give priority to some subexpressions, we use ()\n",
    "(1+2**2)/(2*5) #Everything inside parentheses will be evaluated first and then we follow the rules of the order of operations"
   ]
  },
  {
   "cell_type": "markdown",
   "metadata": {},
   "source": [
    "<a id=\"bnum\"></a>\n",
    "**Beyond numbers**"
   ]
  },
  {
   "cell_type": "markdown",
   "metadata": {},
   "source": [
    "* **_Variables_**"
   ]
  },
  {
   "cell_type": "code",
   "execution_count": null,
   "metadata": {
    "collapsed": false
   },
   "outputs": [],
   "source": [
    "#variables is the way we can \"save\" a particular value into a variable name and use it just as we would use a number\n",
    "#try to keep your variable names simple and as indicative of the variable content as possible\n",
    "number1 = 1 #assign the variable a to the value 1\n",
    "number2= 2\n",
    "result = number1+number2\n",
    "result"
   ]
  },
  {
   "cell_type": "markdown",
   "metadata": {},
   "source": [
    "<a id=\"data\"></a>\n",
    "* **_ Basic Data types_**"
   ]
  },
  {
   "cell_type": "markdown",
   "metadata": {},
   "source": [
    "|       Type       |                     Example                    | Description                                                                                                                                                                                                                                                                                                               |\n",
    "|:----------------:|:----------------------------------------------:|---------------------------------------------------------------------------------------------------------------------------------------------------------------------------------------------------------------------------------------------------------------------------------------------------------------------------|\n",
    "| Integer (`int`)  |                   `age = 19`                   | In Python, we refer to integers as whole numbers. You can think of those as every number without a decimal place. Remember though that 5.0 is NOT an integer but 5 is.                                                                                                                                                    |\n",
    "| Float (`float`)  | `macs_per_student = 1/3` OR `one_half = 0.5`   | Float numbers are numbers with decimals. You can use them in operations just like integers. As we saw above, the result of an operation between integers can give you a float number.                                                                                                                                     |\n",
    "|  String (`str`)  | `student_name = 'Tom'` OR `student_name=\"Tom\"` | Strings are a data type meant to denote regular text. There are two ways to denote a string; either with a single quote ' or with double quotes \" as in the example. Beware that in general, you cannot use the same operations we used on integers on strings (although there are some exceptions we will discuss later) |\n",
    "| Boolean (`bool`) | `1 > 2` OR `True`                              | Booleans are a special data type which is the result of a logical operation. You can think of them as the answer to a true or false question. A variable can either have a value of `True` or `False`, or a logical expression that evaluates into one of those.                                                          |"
   ]
  },
  {
   "cell_type": "code",
   "execution_count": null,
   "metadata": {
    "collapsed": false
   },
   "outputs": [],
   "source": [
    "# Strings \n",
    "name = \"Vasilis\" # same as name='Vasilis'\n",
    "\n",
    "#Concatenating two strings into one using the + operator\n",
    "greeting = \"Hello \" + name + \"! It is nice to meet you.\"\n",
    "print(greeting) #Prints text or even any variable\n",
    "\n",
    "#This ONLY works if you concatenate two strings. If you attemot to concatenate a string with a number this won't work\n",
    "# You would have to turn the number into a string and then concatenate the two\n",
    "age = 19\n",
    "print(\"I am \"+str(age)+\" years old.\")"
   ]
  },
  {
   "cell_type": "code",
   "execution_count": null,
   "metadata": {
    "collapsed": false
   },
   "outputs": [],
   "source": [
    "# Booleans\n",
    "# Booleans usually arise when we use what we call logical operators\n",
    "# The most important ones are ==, >, <, >= and <=\n",
    "test1 = 1>=1 #greater than or equal\n",
    "print(test1)\n",
    "test2 =  2==2 #equal\n",
    "print(test2)\n",
    "test3 = 3<2 # smaller than\n",
    "print(test3)\n",
    "#You can also assign a boolean to be True or False\n",
    "true = True\n",
    "false = False\n",
    "print(true==false)"
   ]
  },
  {
   "cell_type": "code",
   "execution_count": null,
   "metadata": {
    "collapsed": false
   },
   "outputs": [],
   "source": [
    "# Bonus Booleans\n",
    "#You can also compare strings using operators like ==, < or > just as with numbers (alphabetical order)\n",
    "print(\"cat\" < \"dog\") # True\n",
    "print(\"Cat\"<\"cat\") # Capital letters take priority over lowercase ones True\n",
    "print(\"kitty\"<\"kite\") # False"
   ]
  },
  {
   "cell_type": "markdown",
   "metadata": {},
   "source": [
    "<a id=\"basic_exe\"></a>\n",
    "** Python Basics Exercices**"
   ]
  },
  {
   "cell_type": "markdown",
   "metadata": {},
   "source": [
    "1) My brother is X years old where X is selected at random from a list of ages. Given X, calculate the year in which he will turn 100."
   ]
  },
  {
   "cell_type": "code",
   "execution_count": null,
   "metadata": {
    "collapsed": false
   },
   "outputs": [],
   "source": [
    "import numpy as np # Numpy is a very important package that we will be using in the class. Ignore that statement for now\n",
    "age = np.random.choice(np.arange(1,20)) #randomly selects an age between 1 and 19 (ignore for now)\n",
    "year =  ... #Replace the ? with your answer\n",
    "print(\"My brother is \"+str(age)+\" years old.\")\n",
    "print(\"He will turn 100 in \"+str(year))"
   ]
  },
  {
   "cell_type": "markdown",
   "metadata": {},
   "source": [
    "2) In the context of Euclidean Division, we have the divident, the divisor, the quotient and the remainder (look them up if you don't remember what they are). If I give you the divident and the divisor, can you give me the quotient and the remainder of the euclidean division? Print your results. Your output should look like this:\n",
    "\n",
    "Divisor: X\n",
    "\n",
    "Divident: Y\n",
    "\n",
    "Quotient: Z\n",
    "\n",
    "Remainder: A\n",
    "\n",
    "*Hint 1: You may wanna take a look at what the function `int()` does when you call it with a float number. E.g. `int(1/3)`\n",
    "\n",
    "*Hint 2: Remember that the function `str()` is very useful when trying to print integers. "
   ]
  },
  {
   "cell_type": "code",
   "execution_count": null,
   "metadata": {
    "collapsed": false
   },
   "outputs": [],
   "source": [
    "# Randomly select a pair of divident and divisor\n",
    "divident = np.random.choice(np.arange(1, 100)) \n",
    "divisor = np.random.choice(np.arange(1, 6))"
   ]
  },
  {
   "cell_type": "markdown",
   "metadata": {},
   "source": [
    "3) Find if a number is odd or even. Here, we will have to you an if statement. I encourage you to look up how the if statement is used. Replace the `<condition>` with a boolean expression (eg `1==2` or `1>2` etc)"
   ]
  },
  {
   "cell_type": "code",
   "execution_count": null,
   "metadata": {
    "collapsed": false
   },
   "outputs": [],
   "source": [
    "number = np.random.choice(np.arange(1,1000))\n",
    "if <condition>:\n",
    "    print(str(number) + \" is odd.\")\n",
    "else:\n",
    "    print(str(number) + \" is even.\")"
   ]
  },
  {
   "cell_type": "markdown",
   "metadata": {},
   "source": [
    "4) Given the expressions, add the necessary parenthesis to get the desired results. When you are done all the print statements should be True."
   ]
  },
  {
   "cell_type": "code",
   "execution_count": null,
   "metadata": {
    "collapsed": false
   },
   "outputs": [],
   "source": [
    "#example\n",
    "print(1+2/3==1)\n",
    "#Should be changed to\n",
    "print((1+2)/3==1)"
   ]
  },
  {
   "cell_type": "code",
   "execution_count": null,
   "metadata": {
    "collapsed": false,
    "scrolled": true
   },
   "outputs": [],
   "source": [
    "print(1+2/3+4-5*6+7+8+9/10 == -10)\n",
    "print(2**3+4-(-1)**3*24-4/4+2 == 12)"
   ]
  },
  {
   "cell_type": "markdown",
   "metadata": {},
   "source": [
    "<a id=\"advanced\"></a>\n",
    "<h2> Advanced Programming</h2>"
   ]
  },
  {
   "cell_type": "markdown",
   "metadata": {},
   "source": [
    "<a id=\"pacs\"></a>\n",
    "**Packages and built-in functions**\n",
    "\n",
    "_Built-in Functions_\n",
    "\n",
    "A `function` in programming is a procedure that takes in some input (usually refered to as argument) and returns some result from processing whatever that input was. In Python and other programming languages, there are two kinds of functions; those that already exist and are preloaded in the language (built-in funtions) and the ones the user can has written by himself (user-defined functions). We will take a look at some useful built-in functions and later on in the course we will learn to write our own. \n",
    "\n",
    "_Packages_\n",
    "\n",
    "From now on we will be working quite a bit with what we will refer to as packages. The `datascience` or the `numpy` packages are just two examples of packages that you will be using extensively in this class. You can think of those as collections of `functions`, collections of code that given some input, allow you to automatically perform some operation. In the beginning of every notebook you will typically find a cell consisting of code that looks like this\n",
    "\n",
    "`import numpy as np`\n",
    "\n",
    "`from datascience import *`\n",
    "\n",
    "`import matplotlib.pyplot as plt`\n",
    "\n",
    "`import math`\n",
    "\n",
    "Although you don't really need to know how these statements work, it is good to have an understanding of why they are there. We talked about built-in functions and briefly mentioned user-defined functions, however there are also functions that other people wrote and which are made available through packages such as numpy, math or others. In order to use those, we have to refer to them not just by their name but also by their package. So you can use a package function with `<package_name>.<function_name>` after you do `import <package_name>` or, alternativey you can directly import that function from the package and refer to it by its name. For example, I can do `from <package_name> import <function_name>` and then call the function directly with `<function_name>`."
   ]
  },
  {
   "cell_type": "code",
   "execution_count": null,
   "metadata": {
    "collapsed": false
   },
   "outputs": [],
   "source": [
    "#Built-in functions\n",
    "#These are examples of some built-in functions that you could find yourself using in the class\n",
    "\n",
    "#abs\n",
    "abs1 = abs(-6) #take the absolute value of a number (float or integer)\n",
    "abs2 = abs(1.329)\n",
    "abs1, abs2"
   ]
  },
  {
   "cell_type": "code",
   "execution_count": null,
   "metadata": {
    "collapsed": false
   },
   "outputs": [],
   "source": [
    "#round\n",
    "#The round function is used to round float numbers. It takes two arguments (input variables).\n",
    "#The first one is the number we want to round and the second is the number of decimals we want to keep after we round\n",
    "# e.g round(<some float>, 3) round the float to a 3 decimal place float\n",
    "round_to_integer = round(1.987) # same as round(1.987, 0)\n",
    "round_to_first_decimal = round(1.8633, 1)\n",
    "round_to_second_decimal = round(1.9873737363, 3)\n",
    "round_to_integer, round_to_first_decimal, round_to_second_decimal"
   ]
  },
  {
   "cell_type": "code",
   "execution_count": null,
   "metadata": {
    "collapsed": false
   },
   "outputs": [],
   "source": [
    "#int\n",
    "#The function int() is only keeps the integer part of a float number. It should not be confused with the round function!\n",
    "# Note the difference\n",
    "print(int(1.65))\n",
    "print(round(1.65))\n",
    "#int does not perform any rounding. It just keeps the integer part.\n",
    "#more examples\n",
    "print(int(1))\n",
    "print(int(1.00000001))\n",
    "print(int(1.99999999))\n",
    "\n",
    "#Another use of int() is for converting an integer from a string format to an integer format\n",
    "five = '5' # five+1 will cause an error\n",
    "five = int(5)\n",
    "five+1"
   ]
  },
  {
   "cell_type": "code",
   "execution_count": null,
   "metadata": {
    "collapsed": false
   },
   "outputs": [],
   "source": [
    "#str\n",
    "# As we have already seen, str() converts everything to a string. In our case, it is useful mostly when you are trying \n",
    "#to incorporate some numeric result to a string for printing.\n",
    "month = \"January\"\n",
    "day = 16\n",
    "year = 2017\n",
    "print(\"The date is \"+month+\" \"+str(16)+\", \"+str(year))"
   ]
  },
  {
   "cell_type": "code",
   "execution_count": null,
   "metadata": {
    "collapsed": false
   },
   "outputs": [],
   "source": [
    "# max and min\n",
    "max_of_2 = max(1,2)\n",
    "max_of_3 = max(1,2,3)\n",
    "min_of_2 = min(1,2)\n",
    "min_of_3 = min(1,2,3)\n",
    "#Note: We also use min and max with \n",
    "max_of_2, max_of_3, min_of_2, min_of_3"
   ]
  },
  {
   "cell_type": "markdown",
   "metadata": {},
   "source": [
    "As you can imagine this is not an exhaustive list of all the built-in functions in Python but these are good for now. We will learn about others later."
   ]
  },
  {
   "cell_type": "code",
   "execution_count": null,
   "metadata": {
    "collapsed": false
   },
   "outputs": [],
   "source": [
    "#importing functions from packages\n",
    "#Let's use some functions from the math package\n",
    "import math\n",
    "\n",
    "math.log(1)"
   ]
  },
  {
   "cell_type": "code",
   "execution_count": null,
   "metadata": {
    "collapsed": false
   },
   "outputs": [],
   "source": [
    "#An equivalent way of writing the above would be \n",
    "from math import log\n",
    "\n",
    "log(1)"
   ]
  },
  {
   "cell_type": "markdown",
   "metadata": {},
   "source": [
    "<a id=\"arrays\"></a>\n",
    "**Arrays**\n",
    "\n",
    "Although there are more types of sequences like lists and tuples, the only sequance we will be using in this class is the numpy array. We refer to it as the numpy array because it is the sequence that is used by that package. To create an array, you first have to `import numpy as np` and then assign your array to a variable. For example `my_array = make_array(1,2,3)` . Now let's explore the properties of arrays."
   ]
  },
  {
   "cell_type": "code",
   "execution_count": null,
   "metadata": {
    "collapsed": true
   },
   "outputs": [],
   "source": [
    "from datascience import * #ignore this line"
   ]
  },
  {
   "cell_type": "code",
   "execution_count": null,
   "metadata": {
    "collapsed": false
   },
   "outputs": [],
   "source": [
    "my_array = make_array(1,2,3) #This is how I make an array with elements 1,2 and 3. They don't have to be integers.\n",
    "names = make_array('Tom', 'Tonny', 'Trevor') #In fact an array could contain strings as well"
   ]
  },
  {
   "cell_type": "code",
   "execution_count": null,
   "metadata": {
    "collapsed": false
   },
   "outputs": [],
   "source": [
    "#The reason we use arrays over other types of sequences is that they make it really easy to perform operations on them\n",
    "#P.S. You can also think (and use) numpy arrays like vectors in linear algebra.\n",
    "array1 = make_array(1,2,3)\n",
    "array2 = make_array(3,2,1)\n",
    "twos = make_array(2,2,2)\n",
    "\n",
    "#In fact we can add arrays! (element-wise addition)\n",
    "print(array1+array2)\n",
    "\n",
    "# Or subtract them (element-wise subtraction)\n",
    "print(array1-array2)\n",
    "\n",
    "# Or even raise one array to the power of another!\n",
    "print(array1**twos) # Note that each element is raised to the second power\n",
    "\n",
    "# Compare all elements in an array with a number - returns an array of booleans\n",
    "print(array1==1) #Asks the question to each element: Are you equal to 1\n",
    "print(array1<3) # Asks the question to each element: Are you less than 3\n",
    "\n",
    "#We can also do operations between arrays and numbers for example:\n",
    "result1 = array1+1 #Adds 1 to every element in the array\n",
    "result2 = array1*2 #Multiplies every element in the array by 2\n",
    "print(result1)\n",
    "print(result2)"
   ]
  },
  {
   "cell_type": "code",
   "execution_count": null,
   "metadata": {
    "collapsed": false
   },
   "outputs": [],
   "source": [
    "#Array indexing - A way of selecting an element from an array\n",
    "a = make_array(4,2,1,6,3)\n",
    "#How do I extract the first element from array a?\n",
    "first_element = a.item(0)\n",
    "second_element = a.item(1)\n",
    "print(a)\n",
    "print(\"First element is: \"+str(first_element))\n",
    "print(\"Second element is: \"+str(second_element))\n",
    "#The reason we use .item(0) for the first element and not .item(1) is simply a Python convention.\n",
    "#We say that Python is a 0-indexed language. Other languages have their first element in position 1."
   ]
  },
  {
   "cell_type": "code",
   "execution_count": null,
   "metadata": {
    "collapsed": true
   },
   "outputs": [],
   "source": [
    "# Operations on numpy arrays\n",
    "# Numpy contains many functions which we can use on arrays. Here are some of them long with some examples.\n",
    "import numpy as np # instead of doing numpy.<function_name> we want to do np.<function_name> to save time"
   ]
  },
  {
   "cell_type": "code",
   "execution_count": null,
   "metadata": {
    "collapsed": false
   },
   "outputs": [],
   "source": [
    "#np.sum - Sums all elements in an array.\n",
    "ar = make_array(1,2,3,4)\n",
    "total = np.sum(ar) # 1+2+3+4\n",
    "total"
   ]
  },
  {
   "cell_type": "code",
   "execution_count": null,
   "metadata": {
    "collapsed": false
   },
   "outputs": [],
   "source": [
    "#np.prod - Takes the product of all elements in an array.\n",
    "ar = make_array(1,2,3,4)\n",
    "total = np.prod(ar) # 1*2*3*4\n",
    "total"
   ]
  },
  {
   "cell_type": "code",
   "execution_count": null,
   "metadata": {
    "collapsed": false
   },
   "outputs": [],
   "source": [
    "#np.mean - Takes the mean (average) of all the elements in an array\n",
    "scores = make_array(97, 85, 73, 90, 88) #Midterm scores corresponding to a section\n",
    "section_average = np.mean(scores)\n",
    "section_average"
   ]
  },
  {
   "cell_type": "code",
   "execution_count": null,
   "metadata": {
    "collapsed": false
   },
   "outputs": [],
   "source": [
    "#np.diff - Returns an array of the differences between back to back elements in an array\n",
    "violent_crimes = make_array(4, 8, 11, 5, 7, 3, 1, 0, 10, 13, 6, 9) # number of violent crimes per month in the city of Berkeley\n",
    "monthly_change = np.diff(violent_crimes) # make_array(8-4, 11-8, 5-11, ...)\n",
    "monthly_change #monthly_change is the change in the number of crimes in consecutive months"
   ]
  },
  {
   "cell_type": "code",
   "execution_count": null,
   "metadata": {
    "collapsed": false
   },
   "outputs": [],
   "source": [
    "#np.count_nonzero - To be used with an array of booleans as input. Counts the number of True in the array\n",
    "dummy_array = make_array(1,4,2,5,3,4,5,8,2,6)\n",
    "#find how many values in this array are less than 5\n",
    "less_than_five = dummy_array<5\n",
    "n_less_than_5 = np.count_nonzero(less_than_five)\n",
    "print(\"Number of items in the array that are less than 5 is: \" +str(n_less_than_5))"
   ]
  },
  {
   "cell_type": "markdown",
   "metadata": {},
   "source": [
    "For more numpy functions check out the course textbook <a href=\"https://www.inferentialthinking.com/chapters/04/4/arrays.html\">here</a>."
   ]
  },
  {
   "cell_type": "markdown",
   "metadata": {},
   "source": [
    "<a id=\"ranges\"></a>\n",
    "**Ranges**\n",
    "\n",
    "_Textbook definition:_ A range is an array of numbers in increasing or decreasing order, each separated by a regular interval. \n",
    "\n",
    "To construct a range, we use numpy's `np.arange` function.\n",
    "\n",
    "The structure for the the expression is `np.arange(<start>, <end>, <step>)`. (When the step is 1 we can ommit the step and use `np.arange(<start>, <end>)`)\n",
    "\n",
    "Example: `np.arange(1, 11)` (same as `np.arange(1, 11, 1)`) gives aan array of numbers 1 through 10 in order\n",
    "(1,2,3,4,5,6,7,8,9,10)\n",
    "\n",
    "start: The first element of the range.\n",
    "\n",
    "end: The last element of the range. **Important:** The last element of the range is **NOT** included in the range. \n",
    "\n",
    "step: By how much you want your range to increase.\n",
    "\n",
    "**Note: ** You can also ommit the start and step and only provide the end and just write something like `np.arange(5)` which will assume that you have set start=0, step=1 and end=5 "
   ]
  },
  {
   "cell_type": "code",
   "execution_count": null,
   "metadata": {
    "collapsed": false
   },
   "outputs": [],
   "source": [
    "#make an array of all the numbers from 0 to 100\n",
    "zero_to_100 = np.arange(101) # or zero_to_100 = np.arange(0,101) or zero_to_100 = np.arange(0,101, 1)\n",
    "print(zero_to_100)\n",
    "print('--------------')\n",
    "#make an array with all the multiples of 2 between 0 and 100 inclusive\n",
    "even_0_to_100 = np.arange(0, 101, 2)\n",
    "print(even_0_to_100)"
   ]
  },
  {
   "cell_type": "markdown",
   "metadata": {},
   "source": [
    "<a id=\"advanced_exe\"></a>\n",
    "**Advanced Programming Exercises**"
   ]
  },
  {
   "cell_type": "markdown",
   "metadata": {},
   "source": [
    "1) Without using the built-in function max, find the maximum of 3 numbers a , b, c. Your output should be the same should be the same as the output of max(a,b,c). Do not use max.\n",
    "\n",
    "**Hint: ** You could do that by using if statements but an easier way would be to look at the built-in functions for arrays."
   ]
  },
  {
   "cell_type": "code",
   "execution_count": null,
   "metadata": {
    "collapsed": false
   },
   "outputs": [],
   "source": [
    "a = int(input(\"a\"))\n",
    "b = int(input(\"b\"))\n",
    "c = int(input(\"c\"))"
   ]
  },
  {
   "cell_type": "markdown",
   "metadata": {},
   "source": [
    "2) According to the Oakland Police Department End of Year Report (found <a href=\"http://www2.oaklandnet.com/oakca1/groups/police/documents/webcontent/oak062295.pdf\">here</a>) the historical total number of crimes per year in Oakland is the following.\n",
    "\n",
    "| 2012   | 2013   | 2014   | 2015   | 2016   |\n",
    "|--------|--------|--------|--------|--------|\n",
    "| 33,685 | 33,965 | 31,612 | 31,470 | 29,919 |\n",
    "\n",
    "Find how many years saw more crime than 2012 and how many saw less crime."
   ]
  },
  {
   "cell_type": "code",
   "execution_count": null,
   "metadata": {
    "collapsed": false
   },
   "outputs": [],
   "source": [
    "total_crimes_by_year =  make_array(33685, 33965, 31612, 31470, 29919)"
   ]
  },
  {
   "cell_type": "markdown",
   "metadata": {},
   "source": [
    "3) Find all years of Presidential Elections in the United States between 1788 and 2016. How long of a yearspan is this?"
   ]
  },
  {
   "cell_type": "code",
   "execution_count": null,
   "metadata": {
    "collapsed": true
   },
   "outputs": [],
   "source": [
    "pres_elections = ...\n",
    "yearspan = ...\n",
    "pres_elections, yearspan"
   ]
  },
  {
   "cell_type": "markdown",
   "metadata": {},
   "source": [
    "4) The formula for compund interest is A = $$P(1 + r/n)^{(n*t)}$$ where r is the interest rate (as a decimal), n is the number of compoundings per year, and t is the amount of years."
   ]
  },
  {
   "cell_type": "code",
   "execution_count": null,
   "metadata": {
    "collapsed": false
   },
   "outputs": [],
   "source": [
    "amount_of_money_per_year = ...\n",
    "amount_of_money_per_year"
   ]
  },
  {
   "cell_type": "markdown",
   "metadata": {},
   "source": [
    "5) You find a store that keeps discounting their items by a certain percentage each day for 10 days. How much will this $1000 item cost on each of the 10 days?"
   ]
  },
  {
   "cell_type": "code",
   "execution_count": null,
   "metadata": {
    "collapsed": false
   },
   "outputs": [],
   "source": [
    "discounts = make_array(5, 10, 4, 8, 6, 4, 9, 20, 4, 12) #Percentage of discount each day\n",
    "\n",
    "# Hint: First make the array of discounts into an array that represents the discounts as a decimal. \n",
    "# Then find what proportion of the total price each discount represents (i.e. a 5% discount means it \n",
    "# represents 95% of the total price of the product). Then you can calculate the price of the item each day\n",
    "\n",
    "discounts_as_decimals = ...\n",
    "discounts_as_proportion_of_total_price = ...\n",
    "price_by_day = ...\n",
    "price_by_day"
   ]
  },
  {
   "cell_type": "markdown",
   "metadata": {},
   "source": [
    "6) You realize you're being super mean today by screaming at everyone on your chats. Take your chats and lowercase all of them."
   ]
  },
  {
   "cell_type": "code",
   "execution_count": null,
   "metadata": {
    "collapsed": false
   },
   "outputs": [],
   "source": [
    "chats = make_array([\"HI\", \"WHERE ARE YOU\", \"COME BACK\", \"HELLO FRIEND\", \"I AM AT SODA HALL\", \"I'M DOING HOMEWORK\"])\n",
    "\n",
    "calm_chats = ...\n",
    "calm_chats"
   ]
  },
  {
   "cell_type": "markdown",
   "metadata": {},
   "source": [
    "You downloaded some of your messages and realize that all of the messages are mixed up now. Separate the messages you sent from those your friend sent."
   ]
  },
  {
   "cell_type": "code",
   "execution_count": null,
   "metadata": {
    "collapsed": false
   },
   "outputs": [],
   "source": [
    "messages = make_array([\"Me: Hello\", \"Friend: What's up\", \"Me: Just doing some homework\", \"Friend: That's great!\", \n",
    "                    \"Me: Can you give me the answer to Q3?\", \"Friend: Nope that's cheating!!!!\", \n",
    "                    \"Me: Good - just checking you knew the course policies!\", \"Friend: Of course!\"])\n",
    "\n",
    "# Hint: Notice how each of your messages starts differently than your friend's messages. \n",
    "# Use that to separate the messages.\n",
    "\n",
    "# Hint pt. 2: You can use a numpy function to find whether each chat starts with a certain string. \n",
    "# You can then subset an array using the array of boolean values the numpy function will give you.\n",
    "# Ex.:\n",
    "# a = make_array(1, 2, 3, 4, 5, 6)\n",
    "# bools = [True, True, False, True, False, False]\n",
    "# a[bools]\n",
    "# >>> array([1, 2, 4])\n",
    "\n",
    "my_messages_boolean_format = ...\n",
    "friend_messages_boolean_format = ...\n",
    "\n",
    "my_messages = ...\n",
    "friend_messages = ...\n",
    "print(\"My chats: \" + str(my_messages))\n",
    "print(\"Friend's chats: \" + str(friend_messages))"
   ]
  },
  {
   "cell_type": "markdown",
   "metadata": {},
   "source": [
    "If you are done with the exercises and you are looking for more of a challenge, take a look at this <a href=\"http://www.practicepython.org/\">page</a> for some more advanced exercises. (A lot of the material you don't have to know for this class)"
   ]
  },
  {
   "cell_type": "markdown",
   "metadata": {},
   "source": [
    "Notebook developed by Vasilis Oikonomou with Adnan Hemani, Niraj Rao and Erik Cheng in Spring 2017"
   ]
  }
 ],
 "metadata": {
  "anaconda-cloud": {},
  "kernelspec": {
   "display_name": "Python [conda root]",
   "language": "python",
   "name": "conda-root-py"
  },
  "language_info": {
   "codemirror_mode": {
    "name": "ipython",
    "version": 3
   },
   "file_extension": ".py",
   "mimetype": "text/x-python",
   "name": "python",
   "nbconvert_exporter": "python",
   "pygments_lexer": "ipython3",
   "version": "3.5.2"
  }
 },
 "nbformat": 4,
 "nbformat_minor": 1
}
